{
  "nbformat": 4,
  "nbformat_minor": 0,
  "metadata": {
    "colab": {
      "provenance": [],
      "gpuType": "T4"
    },
    "kernelspec": {
      "name": "python3",
      "display_name": "Python 3"
    },
    "language_info": {
      "name": "python"
    },
    "accelerator": "GPU",
    "widgets": {
      "application/vnd.jupyter.widget-state+json": {
        "ae8592eed7344db2aa0b5b398702dfa6": {
          "model_module": "@jupyter-widgets/controls",
          "model_name": "HBoxModel",
          "model_module_version": "1.5.0",
          "state": {
            "_dom_classes": [],
            "_model_module": "@jupyter-widgets/controls",
            "_model_module_version": "1.5.0",
            "_model_name": "HBoxModel",
            "_view_count": null,
            "_view_module": "@jupyter-widgets/controls",
            "_view_module_version": "1.5.0",
            "_view_name": "HBoxView",
            "box_style": "",
            "children": [
              "IPY_MODEL_22dce0ae68d242e3a76a5b417a48b49c",
              "IPY_MODEL_b77c8e356e1f4f7680ae040314fb0be1",
              "IPY_MODEL_5973caf019824a0c8527405e6583f17e"
            ],
            "layout": "IPY_MODEL_dfca22f35cea4cb3aeb075d726966d93"
          }
        },
        "22dce0ae68d242e3a76a5b417a48b49c": {
          "model_module": "@jupyter-widgets/controls",
          "model_name": "HTMLModel",
          "model_module_version": "1.5.0",
          "state": {
            "_dom_classes": [],
            "_model_module": "@jupyter-widgets/controls",
            "_model_module_version": "1.5.0",
            "_model_name": "HTMLModel",
            "_view_count": null,
            "_view_module": "@jupyter-widgets/controls",
            "_view_module_version": "1.5.0",
            "_view_name": "HTMLView",
            "description": "",
            "description_tooltip": null,
            "layout": "IPY_MODEL_40cf1b5cbbc847569aebf905e7098aae",
            "placeholder": "​",
            "style": "IPY_MODEL_e4cb00d181a24611a7440c616e9ad263",
            "value": "Computing transition probabilities: 100%"
          }
        },
        "b77c8e356e1f4f7680ae040314fb0be1": {
          "model_module": "@jupyter-widgets/controls",
          "model_name": "FloatProgressModel",
          "model_module_version": "1.5.0",
          "state": {
            "_dom_classes": [],
            "_model_module": "@jupyter-widgets/controls",
            "_model_module_version": "1.5.0",
            "_model_name": "FloatProgressModel",
            "_view_count": null,
            "_view_module": "@jupyter-widgets/controls",
            "_view_module_version": "1.5.0",
            "_view_name": "ProgressView",
            "bar_style": "success",
            "description": "",
            "description_tooltip": null,
            "layout": "IPY_MODEL_492c8cb1b0a24d54b3704af76bb4126a",
            "max": 486,
            "min": 0,
            "orientation": "horizontal",
            "style": "IPY_MODEL_d4a47b22ae2b44f5bc3618b69d34d2df",
            "value": 486
          }
        },
        "5973caf019824a0c8527405e6583f17e": {
          "model_module": "@jupyter-widgets/controls",
          "model_name": "HTMLModel",
          "model_module_version": "1.5.0",
          "state": {
            "_dom_classes": [],
            "_model_module": "@jupyter-widgets/controls",
            "_model_module_version": "1.5.0",
            "_model_name": "HTMLModel",
            "_view_count": null,
            "_view_module": "@jupyter-widgets/controls",
            "_view_module_version": "1.5.0",
            "_view_name": "HTMLView",
            "description": "",
            "description_tooltip": null,
            "layout": "IPY_MODEL_caaed610a5a142979c8fb2272ab30e78",
            "placeholder": "​",
            "style": "IPY_MODEL_76c07906a8354ea7a2d37c05e5f2dcc5",
            "value": " 486/486 [00:00&lt;00:00, 768.58it/s]"
          }
        },
        "dfca22f35cea4cb3aeb075d726966d93": {
          "model_module": "@jupyter-widgets/base",
          "model_name": "LayoutModel",
          "model_module_version": "1.2.0",
          "state": {
            "_model_module": "@jupyter-widgets/base",
            "_model_module_version": "1.2.0",
            "_model_name": "LayoutModel",
            "_view_count": null,
            "_view_module": "@jupyter-widgets/base",
            "_view_module_version": "1.2.0",
            "_view_name": "LayoutView",
            "align_content": null,
            "align_items": null,
            "align_self": null,
            "border": null,
            "bottom": null,
            "display": null,
            "flex": null,
            "flex_flow": null,
            "grid_area": null,
            "grid_auto_columns": null,
            "grid_auto_flow": null,
            "grid_auto_rows": null,
            "grid_column": null,
            "grid_gap": null,
            "grid_row": null,
            "grid_template_areas": null,
            "grid_template_columns": null,
            "grid_template_rows": null,
            "height": null,
            "justify_content": null,
            "justify_items": null,
            "left": null,
            "margin": null,
            "max_height": null,
            "max_width": null,
            "min_height": null,
            "min_width": null,
            "object_fit": null,
            "object_position": null,
            "order": null,
            "overflow": null,
            "overflow_x": null,
            "overflow_y": null,
            "padding": null,
            "right": null,
            "top": null,
            "visibility": null,
            "width": null
          }
        },
        "40cf1b5cbbc847569aebf905e7098aae": {
          "model_module": "@jupyter-widgets/base",
          "model_name": "LayoutModel",
          "model_module_version": "1.2.0",
          "state": {
            "_model_module": "@jupyter-widgets/base",
            "_model_module_version": "1.2.0",
            "_model_name": "LayoutModel",
            "_view_count": null,
            "_view_module": "@jupyter-widgets/base",
            "_view_module_version": "1.2.0",
            "_view_name": "LayoutView",
            "align_content": null,
            "align_items": null,
            "align_self": null,
            "border": null,
            "bottom": null,
            "display": null,
            "flex": null,
            "flex_flow": null,
            "grid_area": null,
            "grid_auto_columns": null,
            "grid_auto_flow": null,
            "grid_auto_rows": null,
            "grid_column": null,
            "grid_gap": null,
            "grid_row": null,
            "grid_template_areas": null,
            "grid_template_columns": null,
            "grid_template_rows": null,
            "height": null,
            "justify_content": null,
            "justify_items": null,
            "left": null,
            "margin": null,
            "max_height": null,
            "max_width": null,
            "min_height": null,
            "min_width": null,
            "object_fit": null,
            "object_position": null,
            "order": null,
            "overflow": null,
            "overflow_x": null,
            "overflow_y": null,
            "padding": null,
            "right": null,
            "top": null,
            "visibility": null,
            "width": null
          }
        },
        "e4cb00d181a24611a7440c616e9ad263": {
          "model_module": "@jupyter-widgets/controls",
          "model_name": "DescriptionStyleModel",
          "model_module_version": "1.5.0",
          "state": {
            "_model_module": "@jupyter-widgets/controls",
            "_model_module_version": "1.5.0",
            "_model_name": "DescriptionStyleModel",
            "_view_count": null,
            "_view_module": "@jupyter-widgets/base",
            "_view_module_version": "1.2.0",
            "_view_name": "StyleView",
            "description_width": ""
          }
        },
        "492c8cb1b0a24d54b3704af76bb4126a": {
          "model_module": "@jupyter-widgets/base",
          "model_name": "LayoutModel",
          "model_module_version": "1.2.0",
          "state": {
            "_model_module": "@jupyter-widgets/base",
            "_model_module_version": "1.2.0",
            "_model_name": "LayoutModel",
            "_view_count": null,
            "_view_module": "@jupyter-widgets/base",
            "_view_module_version": "1.2.0",
            "_view_name": "LayoutView",
            "align_content": null,
            "align_items": null,
            "align_self": null,
            "border": null,
            "bottom": null,
            "display": null,
            "flex": null,
            "flex_flow": null,
            "grid_area": null,
            "grid_auto_columns": null,
            "grid_auto_flow": null,
            "grid_auto_rows": null,
            "grid_column": null,
            "grid_gap": null,
            "grid_row": null,
            "grid_template_areas": null,
            "grid_template_columns": null,
            "grid_template_rows": null,
            "height": null,
            "justify_content": null,
            "justify_items": null,
            "left": null,
            "margin": null,
            "max_height": null,
            "max_width": null,
            "min_height": null,
            "min_width": null,
            "object_fit": null,
            "object_position": null,
            "order": null,
            "overflow": null,
            "overflow_x": null,
            "overflow_y": null,
            "padding": null,
            "right": null,
            "top": null,
            "visibility": null,
            "width": null
          }
        },
        "d4a47b22ae2b44f5bc3618b69d34d2df": {
          "model_module": "@jupyter-widgets/controls",
          "model_name": "ProgressStyleModel",
          "model_module_version": "1.5.0",
          "state": {
            "_model_module": "@jupyter-widgets/controls",
            "_model_module_version": "1.5.0",
            "_model_name": "ProgressStyleModel",
            "_view_count": null,
            "_view_module": "@jupyter-widgets/base",
            "_view_module_version": "1.2.0",
            "_view_name": "StyleView",
            "bar_color": null,
            "description_width": ""
          }
        },
        "caaed610a5a142979c8fb2272ab30e78": {
          "model_module": "@jupyter-widgets/base",
          "model_name": "LayoutModel",
          "model_module_version": "1.2.0",
          "state": {
            "_model_module": "@jupyter-widgets/base",
            "_model_module_version": "1.2.0",
            "_model_name": "LayoutModel",
            "_view_count": null,
            "_view_module": "@jupyter-widgets/base",
            "_view_module_version": "1.2.0",
            "_view_name": "LayoutView",
            "align_content": null,
            "align_items": null,
            "align_self": null,
            "border": null,
            "bottom": null,
            "display": null,
            "flex": null,
            "flex_flow": null,
            "grid_area": null,
            "grid_auto_columns": null,
            "grid_auto_flow": null,
            "grid_auto_rows": null,
            "grid_column": null,
            "grid_gap": null,
            "grid_row": null,
            "grid_template_areas": null,
            "grid_template_columns": null,
            "grid_template_rows": null,
            "height": null,
            "justify_content": null,
            "justify_items": null,
            "left": null,
            "margin": null,
            "max_height": null,
            "max_width": null,
            "min_height": null,
            "min_width": null,
            "object_fit": null,
            "object_position": null,
            "order": null,
            "overflow": null,
            "overflow_x": null,
            "overflow_y": null,
            "padding": null,
            "right": null,
            "top": null,
            "visibility": null,
            "width": null
          }
        },
        "76c07906a8354ea7a2d37c05e5f2dcc5": {
          "model_module": "@jupyter-widgets/controls",
          "model_name": "DescriptionStyleModel",
          "model_module_version": "1.5.0",
          "state": {
            "_model_module": "@jupyter-widgets/controls",
            "_model_module_version": "1.5.0",
            "_model_name": "DescriptionStyleModel",
            "_view_count": null,
            "_view_module": "@jupyter-widgets/base",
            "_view_module_version": "1.2.0",
            "_view_name": "StyleView",
            "description_width": ""
          }
        },
        "ec137a863ed946e8a632a2fa86317d28": {
          "model_module": "@jupyter-widgets/controls",
          "model_name": "HBoxModel",
          "model_module_version": "1.5.0",
          "state": {
            "_dom_classes": [],
            "_model_module": "@jupyter-widgets/controls",
            "_model_module_version": "1.5.0",
            "_model_name": "HBoxModel",
            "_view_count": null,
            "_view_module": "@jupyter-widgets/controls",
            "_view_module_version": "1.5.0",
            "_view_name": "HBoxView",
            "box_style": "",
            "children": [
              "IPY_MODEL_a9b4483739c64600a0c5b2bee4332eaf",
              "IPY_MODEL_c7363603ac374cb69cdb6dfab1aa9989",
              "IPY_MODEL_34dc099ecdbc4393850b81b34f62a186"
            ],
            "layout": "IPY_MODEL_f54d38cc3d914cd0afd0074684880458"
          }
        },
        "a9b4483739c64600a0c5b2bee4332eaf": {
          "model_module": "@jupyter-widgets/controls",
          "model_name": "HTMLModel",
          "model_module_version": "1.5.0",
          "state": {
            "_dom_classes": [],
            "_model_module": "@jupyter-widgets/controls",
            "_model_module_version": "1.5.0",
            "_model_name": "HTMLModel",
            "_view_count": null,
            "_view_module": "@jupyter-widgets/controls",
            "_view_module_version": "1.5.0",
            "_view_name": "HTMLView",
            "description": "",
            "description_tooltip": null,
            "layout": "IPY_MODEL_cdd80ec1ba38453588499dff65fb409a",
            "placeholder": "​",
            "style": "IPY_MODEL_f35dcc5c1917476cadee9a09a7fbe077",
            "value": "Computing transition probabilities: 100%"
          }
        },
        "c7363603ac374cb69cdb6dfab1aa9989": {
          "model_module": "@jupyter-widgets/controls",
          "model_name": "FloatProgressModel",
          "model_module_version": "1.5.0",
          "state": {
            "_dom_classes": [],
            "_model_module": "@jupyter-widgets/controls",
            "_model_module_version": "1.5.0",
            "_model_name": "FloatProgressModel",
            "_view_count": null,
            "_view_module": "@jupyter-widgets/controls",
            "_view_module_version": "1.5.0",
            "_view_name": "ProgressView",
            "bar_style": "success",
            "description": "",
            "description_tooltip": null,
            "layout": "IPY_MODEL_32aeff9423774ff6bc2fb5b59a0411e2",
            "max": 486,
            "min": 0,
            "orientation": "horizontal",
            "style": "IPY_MODEL_16cf9929d522495a9e5f6e961dd44453",
            "value": 486
          }
        },
        "34dc099ecdbc4393850b81b34f62a186": {
          "model_module": "@jupyter-widgets/controls",
          "model_name": "HTMLModel",
          "model_module_version": "1.5.0",
          "state": {
            "_dom_classes": [],
            "_model_module": "@jupyter-widgets/controls",
            "_model_module_version": "1.5.0",
            "_model_name": "HTMLModel",
            "_view_count": null,
            "_view_module": "@jupyter-widgets/controls",
            "_view_module_version": "1.5.0",
            "_view_name": "HTMLView",
            "description": "",
            "description_tooltip": null,
            "layout": "IPY_MODEL_97ee3bbd266342ee86a64b80ca812db8",
            "placeholder": "​",
            "style": "IPY_MODEL_fce2cedd3d11441f834fc222c8d5cddd",
            "value": " 486/486 [00:00&lt;00:00, 719.99it/s]"
          }
        },
        "f54d38cc3d914cd0afd0074684880458": {
          "model_module": "@jupyter-widgets/base",
          "model_name": "LayoutModel",
          "model_module_version": "1.2.0",
          "state": {
            "_model_module": "@jupyter-widgets/base",
            "_model_module_version": "1.2.0",
            "_model_name": "LayoutModel",
            "_view_count": null,
            "_view_module": "@jupyter-widgets/base",
            "_view_module_version": "1.2.0",
            "_view_name": "LayoutView",
            "align_content": null,
            "align_items": null,
            "align_self": null,
            "border": null,
            "bottom": null,
            "display": null,
            "flex": null,
            "flex_flow": null,
            "grid_area": null,
            "grid_auto_columns": null,
            "grid_auto_flow": null,
            "grid_auto_rows": null,
            "grid_column": null,
            "grid_gap": null,
            "grid_row": null,
            "grid_template_areas": null,
            "grid_template_columns": null,
            "grid_template_rows": null,
            "height": null,
            "justify_content": null,
            "justify_items": null,
            "left": null,
            "margin": null,
            "max_height": null,
            "max_width": null,
            "min_height": null,
            "min_width": null,
            "object_fit": null,
            "object_position": null,
            "order": null,
            "overflow": null,
            "overflow_x": null,
            "overflow_y": null,
            "padding": null,
            "right": null,
            "top": null,
            "visibility": null,
            "width": null
          }
        },
        "cdd80ec1ba38453588499dff65fb409a": {
          "model_module": "@jupyter-widgets/base",
          "model_name": "LayoutModel",
          "model_module_version": "1.2.0",
          "state": {
            "_model_module": "@jupyter-widgets/base",
            "_model_module_version": "1.2.0",
            "_model_name": "LayoutModel",
            "_view_count": null,
            "_view_module": "@jupyter-widgets/base",
            "_view_module_version": "1.2.0",
            "_view_name": "LayoutView",
            "align_content": null,
            "align_items": null,
            "align_self": null,
            "border": null,
            "bottom": null,
            "display": null,
            "flex": null,
            "flex_flow": null,
            "grid_area": null,
            "grid_auto_columns": null,
            "grid_auto_flow": null,
            "grid_auto_rows": null,
            "grid_column": null,
            "grid_gap": null,
            "grid_row": null,
            "grid_template_areas": null,
            "grid_template_columns": null,
            "grid_template_rows": null,
            "height": null,
            "justify_content": null,
            "justify_items": null,
            "left": null,
            "margin": null,
            "max_height": null,
            "max_width": null,
            "min_height": null,
            "min_width": null,
            "object_fit": null,
            "object_position": null,
            "order": null,
            "overflow": null,
            "overflow_x": null,
            "overflow_y": null,
            "padding": null,
            "right": null,
            "top": null,
            "visibility": null,
            "width": null
          }
        },
        "f35dcc5c1917476cadee9a09a7fbe077": {
          "model_module": "@jupyter-widgets/controls",
          "model_name": "DescriptionStyleModel",
          "model_module_version": "1.5.0",
          "state": {
            "_model_module": "@jupyter-widgets/controls",
            "_model_module_version": "1.5.0",
            "_model_name": "DescriptionStyleModel",
            "_view_count": null,
            "_view_module": "@jupyter-widgets/base",
            "_view_module_version": "1.2.0",
            "_view_name": "StyleView",
            "description_width": ""
          }
        },
        "32aeff9423774ff6bc2fb5b59a0411e2": {
          "model_module": "@jupyter-widgets/base",
          "model_name": "LayoutModel",
          "model_module_version": "1.2.0",
          "state": {
            "_model_module": "@jupyter-widgets/base",
            "_model_module_version": "1.2.0",
            "_model_name": "LayoutModel",
            "_view_count": null,
            "_view_module": "@jupyter-widgets/base",
            "_view_module_version": "1.2.0",
            "_view_name": "LayoutView",
            "align_content": null,
            "align_items": null,
            "align_self": null,
            "border": null,
            "bottom": null,
            "display": null,
            "flex": null,
            "flex_flow": null,
            "grid_area": null,
            "grid_auto_columns": null,
            "grid_auto_flow": null,
            "grid_auto_rows": null,
            "grid_column": null,
            "grid_gap": null,
            "grid_row": null,
            "grid_template_areas": null,
            "grid_template_columns": null,
            "grid_template_rows": null,
            "height": null,
            "justify_content": null,
            "justify_items": null,
            "left": null,
            "margin": null,
            "max_height": null,
            "max_width": null,
            "min_height": null,
            "min_width": null,
            "object_fit": null,
            "object_position": null,
            "order": null,
            "overflow": null,
            "overflow_x": null,
            "overflow_y": null,
            "padding": null,
            "right": null,
            "top": null,
            "visibility": null,
            "width": null
          }
        },
        "16cf9929d522495a9e5f6e961dd44453": {
          "model_module": "@jupyter-widgets/controls",
          "model_name": "ProgressStyleModel",
          "model_module_version": "1.5.0",
          "state": {
            "_model_module": "@jupyter-widgets/controls",
            "_model_module_version": "1.5.0",
            "_model_name": "ProgressStyleModel",
            "_view_count": null,
            "_view_module": "@jupyter-widgets/base",
            "_view_module_version": "1.2.0",
            "_view_name": "StyleView",
            "bar_color": null,
            "description_width": ""
          }
        },
        "97ee3bbd266342ee86a64b80ca812db8": {
          "model_module": "@jupyter-widgets/base",
          "model_name": "LayoutModel",
          "model_module_version": "1.2.0",
          "state": {
            "_model_module": "@jupyter-widgets/base",
            "_model_module_version": "1.2.0",
            "_model_name": "LayoutModel",
            "_view_count": null,
            "_view_module": "@jupyter-widgets/base",
            "_view_module_version": "1.2.0",
            "_view_name": "LayoutView",
            "align_content": null,
            "align_items": null,
            "align_self": null,
            "border": null,
            "bottom": null,
            "display": null,
            "flex": null,
            "flex_flow": null,
            "grid_area": null,
            "grid_auto_columns": null,
            "grid_auto_flow": null,
            "grid_auto_rows": null,
            "grid_column": null,
            "grid_gap": null,
            "grid_row": null,
            "grid_template_areas": null,
            "grid_template_columns": null,
            "grid_template_rows": null,
            "height": null,
            "justify_content": null,
            "justify_items": null,
            "left": null,
            "margin": null,
            "max_height": null,
            "max_width": null,
            "min_height": null,
            "min_width": null,
            "object_fit": null,
            "object_position": null,
            "order": null,
            "overflow": null,
            "overflow_x": null,
            "overflow_y": null,
            "padding": null,
            "right": null,
            "top": null,
            "visibility": null,
            "width": null
          }
        },
        "fce2cedd3d11441f834fc222c8d5cddd": {
          "model_module": "@jupyter-widgets/controls",
          "model_name": "DescriptionStyleModel",
          "model_module_version": "1.5.0",
          "state": {
            "_model_module": "@jupyter-widgets/controls",
            "_model_module_version": "1.5.0",
            "_model_name": "DescriptionStyleModel",
            "_view_count": null,
            "_view_module": "@jupyter-widgets/base",
            "_view_module_version": "1.2.0",
            "_view_name": "StyleView",
            "description_width": ""
          }
        },
        "88f0cb74530f43e09853e3bfa447d9b6": {
          "model_module": "@jupyter-widgets/controls",
          "model_name": "RadioButtonsModel",
          "model_module_version": "1.5.0",
          "state": {
            "_dom_classes": [],
            "_model_module": "@jupyter-widgets/controls",
            "_model_module_version": "1.5.0",
            "_model_name": "RadioButtonsModel",
            "_options_labels": [
              "Enter diseases",
              "Enter symptoms"
            ],
            "_view_count": null,
            "_view_module": "@jupyter-widgets/controls",
            "_view_module_version": "1.5.0",
            "_view_name": "RadioButtonsView",
            "description": "Choose:",
            "description_tooltip": null,
            "disabled": false,
            "index": 0,
            "layout": "IPY_MODEL_8bce3f192cf24e09a375210be26e866f",
            "style": "IPY_MODEL_aa890b97a26c40f09faf3c568b01417c"
          }
        },
        "8bce3f192cf24e09a375210be26e866f": {
          "model_module": "@jupyter-widgets/base",
          "model_name": "LayoutModel",
          "model_module_version": "1.2.0",
          "state": {
            "_model_module": "@jupyter-widgets/base",
            "_model_module_version": "1.2.0",
            "_model_name": "LayoutModel",
            "_view_count": null,
            "_view_module": "@jupyter-widgets/base",
            "_view_module_version": "1.2.0",
            "_view_name": "LayoutView",
            "align_content": null,
            "align_items": null,
            "align_self": null,
            "border": null,
            "bottom": null,
            "display": null,
            "flex": null,
            "flex_flow": null,
            "grid_area": null,
            "grid_auto_columns": null,
            "grid_auto_flow": null,
            "grid_auto_rows": null,
            "grid_column": null,
            "grid_gap": null,
            "grid_row": null,
            "grid_template_areas": null,
            "grid_template_columns": null,
            "grid_template_rows": null,
            "height": null,
            "justify_content": null,
            "justify_items": null,
            "left": null,
            "margin": null,
            "max_height": null,
            "max_width": null,
            "min_height": null,
            "min_width": null,
            "object_fit": null,
            "object_position": null,
            "order": null,
            "overflow": null,
            "overflow_x": null,
            "overflow_y": null,
            "padding": null,
            "right": null,
            "top": null,
            "visibility": null,
            "width": null
          }
        },
        "aa890b97a26c40f09faf3c568b01417c": {
          "model_module": "@jupyter-widgets/controls",
          "model_name": "DescriptionStyleModel",
          "model_module_version": "1.5.0",
          "state": {
            "_model_module": "@jupyter-widgets/controls",
            "_model_module_version": "1.5.0",
            "_model_name": "DescriptionStyleModel",
            "_view_count": null,
            "_view_module": "@jupyter-widgets/base",
            "_view_module_version": "1.2.0",
            "_view_name": "StyleView",
            "description_width": ""
          }
        },
        "db9b70b98bfc4b38a89ad8616d7bd9da": {
          "model_module": "@jupyter-widgets/controls",
          "model_name": "TextModel",
          "model_module_version": "1.5.0",
          "state": {
            "_dom_classes": [],
            "_model_module": "@jupyter-widgets/controls",
            "_model_module_version": "1.5.0",
            "_model_name": "TextModel",
            "_view_count": null,
            "_view_module": "@jupyter-widgets/controls",
            "_view_module_version": "1.5.0",
            "_view_name": "TextView",
            "continuous_update": true,
            "description": "Input:",
            "description_tooltip": null,
            "disabled": false,
            "layout": "IPY_MODEL_2eccbedec5b2485e8827970d1e9da376",
            "placeholder": "​",
            "style": "IPY_MODEL_98199fcbcefc49109247361b7d88d2c9",
            "value": ""
          }
        },
        "2eccbedec5b2485e8827970d1e9da376": {
          "model_module": "@jupyter-widgets/base",
          "model_name": "LayoutModel",
          "model_module_version": "1.2.0",
          "state": {
            "_model_module": "@jupyter-widgets/base",
            "_model_module_version": "1.2.0",
            "_model_name": "LayoutModel",
            "_view_count": null,
            "_view_module": "@jupyter-widgets/base",
            "_view_module_version": "1.2.0",
            "_view_name": "LayoutView",
            "align_content": null,
            "align_items": null,
            "align_self": null,
            "border": null,
            "bottom": null,
            "display": null,
            "flex": null,
            "flex_flow": null,
            "grid_area": null,
            "grid_auto_columns": null,
            "grid_auto_flow": null,
            "grid_auto_rows": null,
            "grid_column": null,
            "grid_gap": null,
            "grid_row": null,
            "grid_template_areas": null,
            "grid_template_columns": null,
            "grid_template_rows": null,
            "height": null,
            "justify_content": null,
            "justify_items": null,
            "left": null,
            "margin": null,
            "max_height": null,
            "max_width": null,
            "min_height": null,
            "min_width": null,
            "object_fit": null,
            "object_position": null,
            "order": null,
            "overflow": null,
            "overflow_x": null,
            "overflow_y": null,
            "padding": null,
            "right": null,
            "top": null,
            "visibility": null,
            "width": null
          }
        },
        "98199fcbcefc49109247361b7d88d2c9": {
          "model_module": "@jupyter-widgets/controls",
          "model_name": "DescriptionStyleModel",
          "model_module_version": "1.5.0",
          "state": {
            "_model_module": "@jupyter-widgets/controls",
            "_model_module_version": "1.5.0",
            "_model_name": "DescriptionStyleModel",
            "_view_count": null,
            "_view_module": "@jupyter-widgets/base",
            "_view_module_version": "1.2.0",
            "_view_name": "StyleView",
            "description_width": ""
          }
        },
        "6cd667788e9349dc8a1822e0c249f9d8": {
          "model_module": "@jupyter-widgets/controls",
          "model_name": "ButtonModel",
          "model_module_version": "1.5.0",
          "state": {
            "_dom_classes": [],
            "_model_module": "@jupyter-widgets/controls",
            "_model_module_version": "1.5.0",
            "_model_name": "ButtonModel",
            "_view_count": null,
            "_view_module": "@jupyter-widgets/controls",
            "_view_module_version": "1.5.0",
            "_view_name": "ButtonView",
            "button_style": "",
            "description": "Submit",
            "disabled": false,
            "icon": "",
            "layout": "IPY_MODEL_e9b90209067b4aca8c30927928fbc219",
            "style": "IPY_MODEL_4b887125133745f99ae966fe9e8ec249",
            "tooltip": ""
          }
        },
        "e9b90209067b4aca8c30927928fbc219": {
          "model_module": "@jupyter-widgets/base",
          "model_name": "LayoutModel",
          "model_module_version": "1.2.0",
          "state": {
            "_model_module": "@jupyter-widgets/base",
            "_model_module_version": "1.2.0",
            "_model_name": "LayoutModel",
            "_view_count": null,
            "_view_module": "@jupyter-widgets/base",
            "_view_module_version": "1.2.0",
            "_view_name": "LayoutView",
            "align_content": null,
            "align_items": null,
            "align_self": null,
            "border": null,
            "bottom": null,
            "display": null,
            "flex": null,
            "flex_flow": null,
            "grid_area": null,
            "grid_auto_columns": null,
            "grid_auto_flow": null,
            "grid_auto_rows": null,
            "grid_column": null,
            "grid_gap": null,
            "grid_row": null,
            "grid_template_areas": null,
            "grid_template_columns": null,
            "grid_template_rows": null,
            "height": null,
            "justify_content": null,
            "justify_items": null,
            "left": null,
            "margin": null,
            "max_height": null,
            "max_width": null,
            "min_height": null,
            "min_width": null,
            "object_fit": null,
            "object_position": null,
            "order": null,
            "overflow": null,
            "overflow_x": null,
            "overflow_y": null,
            "padding": null,
            "right": null,
            "top": null,
            "visibility": null,
            "width": null
          }
        },
        "4b887125133745f99ae966fe9e8ec249": {
          "model_module": "@jupyter-widgets/controls",
          "model_name": "ButtonStyleModel",
          "model_module_version": "1.5.0",
          "state": {
            "_model_module": "@jupyter-widgets/controls",
            "_model_module_version": "1.5.0",
            "_model_name": "ButtonStyleModel",
            "_view_count": null,
            "_view_module": "@jupyter-widgets/base",
            "_view_module_version": "1.2.0",
            "_view_name": "StyleView",
            "button_color": null,
            "font_weight": ""
          }
        },
        "a427045e88cd4f3e8cc03d553ffa3046": {
          "model_module": "@jupyter-widgets/output",
          "model_name": "OutputModel",
          "model_module_version": "1.0.0",
          "state": {
            "_dom_classes": [],
            "_model_module": "@jupyter-widgets/output",
            "_model_module_version": "1.0.0",
            "_model_name": "OutputModel",
            "_view_count": null,
            "_view_module": "@jupyter-widgets/output",
            "_view_module_version": "1.0.0",
            "_view_name": "OutputView",
            "layout": "IPY_MODEL_ccec393b6a884167929f30d71c89a91b",
            "msg_id": "",
            "outputs": []
          }
        },
        "ccec393b6a884167929f30d71c89a91b": {
          "model_module": "@jupyter-widgets/base",
          "model_name": "LayoutModel",
          "model_module_version": "1.2.0",
          "state": {
            "_model_module": "@jupyter-widgets/base",
            "_model_module_version": "1.2.0",
            "_model_name": "LayoutModel",
            "_view_count": null,
            "_view_module": "@jupyter-widgets/base",
            "_view_module_version": "1.2.0",
            "_view_name": "LayoutView",
            "align_content": null,
            "align_items": null,
            "align_self": null,
            "border": null,
            "bottom": null,
            "display": null,
            "flex": null,
            "flex_flow": null,
            "grid_area": null,
            "grid_auto_columns": null,
            "grid_auto_flow": null,
            "grid_auto_rows": null,
            "grid_column": null,
            "grid_gap": null,
            "grid_row": null,
            "grid_template_areas": null,
            "grid_template_columns": null,
            "grid_template_rows": null,
            "height": null,
            "justify_content": null,
            "justify_items": null,
            "left": null,
            "margin": null,
            "max_height": null,
            "max_width": null,
            "min_height": null,
            "min_width": null,
            "object_fit": null,
            "object_position": null,
            "order": null,
            "overflow": null,
            "overflow_x": null,
            "overflow_y": null,
            "padding": null,
            "right": null,
            "top": null,
            "visibility": null,
            "width": null
          }
        }
      }
    }
  },
  "cells": [
    {
      "cell_type": "code",
      "source": [
        "pip install Node2Vec"
      ],
      "metadata": {
        "colab": {
          "base_uri": "https://localhost:8080/"
        },
        "id": "KFeFNiPdQEid",
        "outputId": "e154f994-0118-4461-8da9-e129d2354aeb"
      },
      "execution_count": null,
      "outputs": [
        {
          "output_type": "stream",
          "name": "stdout",
          "text": [
            "Collecting Node2Vec\n",
            "  Downloading node2vec-0.4.6-py3-none-any.whl (7.0 kB)\n",
            "Requirement already satisfied: gensim<5.0.0,>=4.1.2 in /usr/local/lib/python3.10/dist-packages (from Node2Vec) (4.3.2)\n",
            "Requirement already satisfied: joblib<2.0.0,>=1.1.0 in /usr/local/lib/python3.10/dist-packages (from Node2Vec) (1.4.0)\n",
            "Collecting networkx<3.0,>=2.5 (from Node2Vec)\n",
            "  Downloading networkx-2.8.8-py3-none-any.whl (2.0 MB)\n",
            "\u001b[2K     \u001b[90m━━━━━━━━━━━━━━━━━━━━━━━━━━━━━━━━━━━━━━━━\u001b[0m \u001b[32m2.0/2.0 MB\u001b[0m \u001b[31m7.0 MB/s\u001b[0m eta \u001b[36m0:00:00\u001b[0m\n",
            "\u001b[?25hRequirement already satisfied: numpy<2.0.0,>=1.19.5 in /usr/local/lib/python3.10/dist-packages (from Node2Vec) (1.25.2)\n",
            "Requirement already satisfied: tqdm<5.0.0,>=4.55.1 in /usr/local/lib/python3.10/dist-packages (from Node2Vec) (4.66.2)\n",
            "Requirement already satisfied: scipy>=1.7.0 in /usr/local/lib/python3.10/dist-packages (from gensim<5.0.0,>=4.1.2->Node2Vec) (1.11.4)\n",
            "Requirement already satisfied: smart-open>=1.8.1 in /usr/local/lib/python3.10/dist-packages (from gensim<5.0.0,>=4.1.2->Node2Vec) (6.4.0)\n",
            "Installing collected packages: networkx, Node2Vec\n",
            "  Attempting uninstall: networkx\n",
            "    Found existing installation: networkx 3.3\n",
            "    Uninstalling networkx-3.3:\n",
            "      Successfully uninstalled networkx-3.3\n",
            "\u001b[31mERROR: pip's dependency resolver does not currently take into account all the packages that are installed. This behaviour is the source of the following dependency conflicts.\n",
            "torch 2.2.1+cu121 requires nvidia-cublas-cu12==12.1.3.1; platform_system == \"Linux\" and platform_machine == \"x86_64\", which is not installed.\n",
            "torch 2.2.1+cu121 requires nvidia-cuda-cupti-cu12==12.1.105; platform_system == \"Linux\" and platform_machine == \"x86_64\", which is not installed.\n",
            "torch 2.2.1+cu121 requires nvidia-cuda-nvrtc-cu12==12.1.105; platform_system == \"Linux\" and platform_machine == \"x86_64\", which is not installed.\n",
            "torch 2.2.1+cu121 requires nvidia-cuda-runtime-cu12==12.1.105; platform_system == \"Linux\" and platform_machine == \"x86_64\", which is not installed.\n",
            "torch 2.2.1+cu121 requires nvidia-cudnn-cu12==8.9.2.26; platform_system == \"Linux\" and platform_machine == \"x86_64\", which is not installed.\n",
            "torch 2.2.1+cu121 requires nvidia-cufft-cu12==11.0.2.54; platform_system == \"Linux\" and platform_machine == \"x86_64\", which is not installed.\n",
            "torch 2.2.1+cu121 requires nvidia-curand-cu12==10.3.2.106; platform_system == \"Linux\" and platform_machine == \"x86_64\", which is not installed.\n",
            "torch 2.2.1+cu121 requires nvidia-cusolver-cu12==11.4.5.107; platform_system == \"Linux\" and platform_machine == \"x86_64\", which is not installed.\n",
            "torch 2.2.1+cu121 requires nvidia-cusparse-cu12==12.1.0.106; platform_system == \"Linux\" and platform_machine == \"x86_64\", which is not installed.\n",
            "torch 2.2.1+cu121 requires nvidia-nccl-cu12==2.19.3; platform_system == \"Linux\" and platform_machine == \"x86_64\", which is not installed.\n",
            "torch 2.2.1+cu121 requires nvidia-nvtx-cu12==12.1.105; platform_system == \"Linux\" and platform_machine == \"x86_64\", which is not installed.\u001b[0m\u001b[31m\n",
            "\u001b[0mSuccessfully installed Node2Vec-0.4.6 networkx-2.8.8\n"
          ]
        }
      ]
    },
    {
      "cell_type": "code",
      "execution_count": 1,
      "metadata": {
        "colab": {
          "base_uri": "https://localhost:8080/",
          "height": 206
        },
        "id": "x5VB1NtzOIeO",
        "outputId": "9509eb08-d3bd-48c8-c9da-527d6185ef2c"
      },
      "outputs": [
        {
          "output_type": "execute_result",
          "data": {
            "text/plain": [
              "               Diseases                                           Symptoms\n",
              "0               abscess  pain (0.318), fever (0.119), swelling (0.112),...\n",
              "1           acid reflux  pain (0.225), nausea (0.140), pain in upper ab...\n",
              "2   acute renal failure  kidney failure (0.127), weakness (0.087), diar...\n",
              "3  alcohol intoxication  slurred speech (0.071), vomiting (0.064), unst...\n",
              "4            alcoholism  seizures (0.125), depression (0.090), sadness ..."
            ],
            "text/html": [
              "\n",
              "  <div id=\"df-1b14fec1-4ef8-46a1-a905-823d7ffb2e64\" class=\"colab-df-container\">\n",
              "    <div>\n",
              "<style scoped>\n",
              "    .dataframe tbody tr th:only-of-type {\n",
              "        vertical-align: middle;\n",
              "    }\n",
              "\n",
              "    .dataframe tbody tr th {\n",
              "        vertical-align: top;\n",
              "    }\n",
              "\n",
              "    .dataframe thead th {\n",
              "        text-align: right;\n",
              "    }\n",
              "</style>\n",
              "<table border=\"1\" class=\"dataframe\">\n",
              "  <thead>\n",
              "    <tr style=\"text-align: right;\">\n",
              "      <th></th>\n",
              "      <th>Diseases</th>\n",
              "      <th>Symptoms</th>\n",
              "    </tr>\n",
              "  </thead>\n",
              "  <tbody>\n",
              "    <tr>\n",
              "      <th>0</th>\n",
              "      <td>abscess</td>\n",
              "      <td>pain (0.318), fever (0.119), swelling (0.112),...</td>\n",
              "    </tr>\n",
              "    <tr>\n",
              "      <th>1</th>\n",
              "      <td>acid reflux</td>\n",
              "      <td>pain (0.225), nausea (0.140), pain in upper ab...</td>\n",
              "    </tr>\n",
              "    <tr>\n",
              "      <th>2</th>\n",
              "      <td>acute renal failure</td>\n",
              "      <td>kidney failure (0.127), weakness (0.087), diar...</td>\n",
              "    </tr>\n",
              "    <tr>\n",
              "      <th>3</th>\n",
              "      <td>alcohol intoxication</td>\n",
              "      <td>slurred speech (0.071), vomiting (0.064), unst...</td>\n",
              "    </tr>\n",
              "    <tr>\n",
              "      <th>4</th>\n",
              "      <td>alcoholism</td>\n",
              "      <td>seizures (0.125), depression (0.090), sadness ...</td>\n",
              "    </tr>\n",
              "  </tbody>\n",
              "</table>\n",
              "</div>\n",
              "    <div class=\"colab-df-buttons\">\n",
              "\n",
              "  <div class=\"colab-df-container\">\n",
              "    <button class=\"colab-df-convert\" onclick=\"convertToInteractive('df-1b14fec1-4ef8-46a1-a905-823d7ffb2e64')\"\n",
              "            title=\"Convert this dataframe to an interactive table.\"\n",
              "            style=\"display:none;\">\n",
              "\n",
              "  <svg xmlns=\"http://www.w3.org/2000/svg\" height=\"24px\" viewBox=\"0 -960 960 960\">\n",
              "    <path d=\"M120-120v-720h720v720H120Zm60-500h600v-160H180v160Zm220 220h160v-160H400v160Zm0 220h160v-160H400v160ZM180-400h160v-160H180v160Zm440 0h160v-160H620v160ZM180-180h160v-160H180v160Zm440 0h160v-160H620v160Z\"/>\n",
              "  </svg>\n",
              "    </button>\n",
              "\n",
              "  <style>\n",
              "    .colab-df-container {\n",
              "      display:flex;\n",
              "      gap: 12px;\n",
              "    }\n",
              "\n",
              "    .colab-df-convert {\n",
              "      background-color: #E8F0FE;\n",
              "      border: none;\n",
              "      border-radius: 50%;\n",
              "      cursor: pointer;\n",
              "      display: none;\n",
              "      fill: #1967D2;\n",
              "      height: 32px;\n",
              "      padding: 0 0 0 0;\n",
              "      width: 32px;\n",
              "    }\n",
              "\n",
              "    .colab-df-convert:hover {\n",
              "      background-color: #E2EBFA;\n",
              "      box-shadow: 0px 1px 2px rgba(60, 64, 67, 0.3), 0px 1px 3px 1px rgba(60, 64, 67, 0.15);\n",
              "      fill: #174EA6;\n",
              "    }\n",
              "\n",
              "    .colab-df-buttons div {\n",
              "      margin-bottom: 4px;\n",
              "    }\n",
              "\n",
              "    [theme=dark] .colab-df-convert {\n",
              "      background-color: #3B4455;\n",
              "      fill: #D2E3FC;\n",
              "    }\n",
              "\n",
              "    [theme=dark] .colab-df-convert:hover {\n",
              "      background-color: #434B5C;\n",
              "      box-shadow: 0px 1px 3px 1px rgba(0, 0, 0, 0.15);\n",
              "      filter: drop-shadow(0px 1px 2px rgba(0, 0, 0, 0.3));\n",
              "      fill: #FFFFFF;\n",
              "    }\n",
              "  </style>\n",
              "\n",
              "    <script>\n",
              "      const buttonEl =\n",
              "        document.querySelector('#df-1b14fec1-4ef8-46a1-a905-823d7ffb2e64 button.colab-df-convert');\n",
              "      buttonEl.style.display =\n",
              "        google.colab.kernel.accessAllowed ? 'block' : 'none';\n",
              "\n",
              "      async function convertToInteractive(key) {\n",
              "        const element = document.querySelector('#df-1b14fec1-4ef8-46a1-a905-823d7ffb2e64');\n",
              "        const dataTable =\n",
              "          await google.colab.kernel.invokeFunction('convertToInteractive',\n",
              "                                                    [key], {});\n",
              "        if (!dataTable) return;\n",
              "\n",
              "        const docLinkHtml = 'Like what you see? Visit the ' +\n",
              "          '<a target=\"_blank\" href=https://colab.research.google.com/notebooks/data_table.ipynb>data table notebook</a>'\n",
              "          + ' to learn more about interactive tables.';\n",
              "        element.innerHTML = '';\n",
              "        dataTable['output_type'] = 'display_data';\n",
              "        await google.colab.output.renderOutput(dataTable, element);\n",
              "        const docLink = document.createElement('div');\n",
              "        docLink.innerHTML = docLinkHtml;\n",
              "        element.appendChild(docLink);\n",
              "      }\n",
              "    </script>\n",
              "  </div>\n",
              "\n",
              "\n",
              "<div id=\"df-e4f1815f-561f-4ce8-a3b1-3e291df23c69\">\n",
              "  <button class=\"colab-df-quickchart\" onclick=\"quickchart('df-e4f1815f-561f-4ce8-a3b1-3e291df23c69')\"\n",
              "            title=\"Suggest charts\"\n",
              "            style=\"display:none;\">\n",
              "\n",
              "<svg xmlns=\"http://www.w3.org/2000/svg\" height=\"24px\"viewBox=\"0 0 24 24\"\n",
              "     width=\"24px\">\n",
              "    <g>\n",
              "        <path d=\"M19 3H5c-1.1 0-2 .9-2 2v14c0 1.1.9 2 2 2h14c1.1 0 2-.9 2-2V5c0-1.1-.9-2-2-2zM9 17H7v-7h2v7zm4 0h-2V7h2v10zm4 0h-2v-4h2v4z\"/>\n",
              "    </g>\n",
              "</svg>\n",
              "  </button>\n",
              "\n",
              "<style>\n",
              "  .colab-df-quickchart {\n",
              "      --bg-color: #E8F0FE;\n",
              "      --fill-color: #1967D2;\n",
              "      --hover-bg-color: #E2EBFA;\n",
              "      --hover-fill-color: #174EA6;\n",
              "      --disabled-fill-color: #AAA;\n",
              "      --disabled-bg-color: #DDD;\n",
              "  }\n",
              "\n",
              "  [theme=dark] .colab-df-quickchart {\n",
              "      --bg-color: #3B4455;\n",
              "      --fill-color: #D2E3FC;\n",
              "      --hover-bg-color: #434B5C;\n",
              "      --hover-fill-color: #FFFFFF;\n",
              "      --disabled-bg-color: #3B4455;\n",
              "      --disabled-fill-color: #666;\n",
              "  }\n",
              "\n",
              "  .colab-df-quickchart {\n",
              "    background-color: var(--bg-color);\n",
              "    border: none;\n",
              "    border-radius: 50%;\n",
              "    cursor: pointer;\n",
              "    display: none;\n",
              "    fill: var(--fill-color);\n",
              "    height: 32px;\n",
              "    padding: 0;\n",
              "    width: 32px;\n",
              "  }\n",
              "\n",
              "  .colab-df-quickchart:hover {\n",
              "    background-color: var(--hover-bg-color);\n",
              "    box-shadow: 0 1px 2px rgba(60, 64, 67, 0.3), 0 1px 3px 1px rgba(60, 64, 67, 0.15);\n",
              "    fill: var(--button-hover-fill-color);\n",
              "  }\n",
              "\n",
              "  .colab-df-quickchart-complete:disabled,\n",
              "  .colab-df-quickchart-complete:disabled:hover {\n",
              "    background-color: var(--disabled-bg-color);\n",
              "    fill: var(--disabled-fill-color);\n",
              "    box-shadow: none;\n",
              "  }\n",
              "\n",
              "  .colab-df-spinner {\n",
              "    border: 2px solid var(--fill-color);\n",
              "    border-color: transparent;\n",
              "    border-bottom-color: var(--fill-color);\n",
              "    animation:\n",
              "      spin 1s steps(1) infinite;\n",
              "  }\n",
              "\n",
              "  @keyframes spin {\n",
              "    0% {\n",
              "      border-color: transparent;\n",
              "      border-bottom-color: var(--fill-color);\n",
              "      border-left-color: var(--fill-color);\n",
              "    }\n",
              "    20% {\n",
              "      border-color: transparent;\n",
              "      border-left-color: var(--fill-color);\n",
              "      border-top-color: var(--fill-color);\n",
              "    }\n",
              "    30% {\n",
              "      border-color: transparent;\n",
              "      border-left-color: var(--fill-color);\n",
              "      border-top-color: var(--fill-color);\n",
              "      border-right-color: var(--fill-color);\n",
              "    }\n",
              "    40% {\n",
              "      border-color: transparent;\n",
              "      border-right-color: var(--fill-color);\n",
              "      border-top-color: var(--fill-color);\n",
              "    }\n",
              "    60% {\n",
              "      border-color: transparent;\n",
              "      border-right-color: var(--fill-color);\n",
              "    }\n",
              "    80% {\n",
              "      border-color: transparent;\n",
              "      border-right-color: var(--fill-color);\n",
              "      border-bottom-color: var(--fill-color);\n",
              "    }\n",
              "    90% {\n",
              "      border-color: transparent;\n",
              "      border-bottom-color: var(--fill-color);\n",
              "    }\n",
              "  }\n",
              "</style>\n",
              "\n",
              "  <script>\n",
              "    async function quickchart(key) {\n",
              "      const quickchartButtonEl =\n",
              "        document.querySelector('#' + key + ' button');\n",
              "      quickchartButtonEl.disabled = true;  // To prevent multiple clicks.\n",
              "      quickchartButtonEl.classList.add('colab-df-spinner');\n",
              "      try {\n",
              "        const charts = await google.colab.kernel.invokeFunction(\n",
              "            'suggestCharts', [key], {});\n",
              "      } catch (error) {\n",
              "        console.error('Error during call to suggestCharts:', error);\n",
              "      }\n",
              "      quickchartButtonEl.classList.remove('colab-df-spinner');\n",
              "      quickchartButtonEl.classList.add('colab-df-quickchart-complete');\n",
              "    }\n",
              "    (() => {\n",
              "      let quickchartButtonEl =\n",
              "        document.querySelector('#df-e4f1815f-561f-4ce8-a3b1-3e291df23c69 button');\n",
              "      quickchartButtonEl.style.display =\n",
              "        google.colab.kernel.accessAllowed ? 'block' : 'none';\n",
              "    })();\n",
              "  </script>\n",
              "</div>\n",
              "    </div>\n",
              "  </div>\n"
            ],
            "application/vnd.google.colaboratory.intrinsic+json": {
              "type": "dataframe",
              "variable_name": "data",
              "summary": "{\n  \"name\": \"data\",\n  \"rows\": 156,\n  \"fields\": [\n    {\n      \"column\": \"Diseases\",\n      \"properties\": {\n        \"dtype\": \"string\",\n        \"num_unique_values\": 156,\n        \"samples\": [\n          \"melanoma\",\n          \"goiter\",\n          \"hypoglycemia\"\n        ],\n        \"semantic_type\": \"\",\n        \"description\": \"\"\n      }\n    },\n    {\n      \"column\": \"Symptoms\",\n      \"properties\": {\n        \"dtype\": \"string\",\n        \"num_unique_values\": 156,\n        \"samples\": [\n          \"weakness (0.113), confusion (0.068), mental confusion (0.055), lesion (0.053), nausea (0.045), lethargy (0.044), vomiting (0.034), fatigue (0.030), seizures (0.029), back pain (0.024), shortness of breath (0.018), numbness (0.016), dizziness (0.014)\",\n          \"weakness (0.055), racing heartbeat (0.055), lump (0.045), neck pain (0.044), shortness of breath (0.042), cyst (0.038), dizziness (0.031), difficulty swallowing (0.031), sore throat (0.030), ear pain (0.028), chills (0.028), memory loss (0.023), chest pressure (0.022), fast heart rate (0.022), neck swelling (0.020), indigestion (0.019)\",\n          \"confusion (0.073), fainting (0.053), seizures (0.050), weakness (0.039), mental confusion (0.027), slurred speech (0.022), low blood pressure (0.022), low body temperature (0.019), depression (0.015), sadness (0.015), loss of appetite (0.012), dizziness (0.011), lethargy (0.011), kidney failure (0.009), lightheadedness (0.009), sweating (0.008), unsteady gait (0.007), slow heart rate (0.006), snoring (0.006), dehydration (0.006), weight loss (0.006), anxiety (0.005), sleepiness (0.005), diarrhea (0.004), coma (0.004), poor appetite (0.004), blurred vision (0.004), low oxygen in the body (0.003), feeling cold (0.003), malnutrition (0.003), wandering and getting lost (0.003), thirst (0.003), drooling (0.003)\"\n        ],\n        \"semantic_type\": \"\",\n        \"description\": \"\"\n      }\n    }\n  ]\n}"
            }
          },
          "metadata": {},
          "execution_count": 1
        }
      ],
      "source": [
        "import torch\n",
        "import networkx as nx\n",
        "import matplotlib.pyplot as plt\n",
        "import pandas as pd\n",
        "import numpy as np\n",
        "data =pd.read_csv('/content/disease_symptoms.csv',encoding='unicode_escape')\n",
        "data.head()"
      ]
    },
    {
      "cell_type": "markdown",
      "source": [
        "function to extract the top 4 symptoms for the given disease"
      ],
      "metadata": {
        "id": "6FVG8B2RaPrH"
      }
    },
    {
      "cell_type": "code",
      "source": [
        "def extract_top_symptoms_for_disease(df, disease_name, top_n=4):\n",
        "    row = data[data['Diseases'].isin(disease_name)]\n",
        "    if row.empty:\n",
        "        print(f\"Disease '{disease_name}' not found in the DataFrame.\")\n",
        "        return []\n",
        "\n",
        "    symptoms_with_weights = row.iloc[0]['Symptoms'].split(', ')\n",
        "    top_symptoms = []\n",
        "    for symptom_with_weight in symptoms_with_weights:\n",
        "        symptom, _ = symptom_with_weight.split('(')\n",
        "        top_symptoms.append(symptom.strip())\n",
        "    return top_symptoms[:top_n]\n",
        "\n",
        "disease_name = [\"acid reflux\"]\n",
        "\n",
        "top_true_symptoms = extract_top_symptoms_for_disease(data, disease_name)\n",
        "print(f\"Top symptoms for {disease_name}: {top_true_symptoms}\")"
      ],
      "metadata": {
        "colab": {
          "base_uri": "https://localhost:8080/"
        },
        "id": "7EQG0kFEYv5o",
        "outputId": "f86d9bf8-4819-4e5b-9d4b-29f1d5cb06e7"
      },
      "execution_count": 2,
      "outputs": [
        {
          "output_type": "stream",
          "name": "stdout",
          "text": [
            "Top symptoms for ['acid reflux']: ['pain', 'nausea', 'pain in upper abdomen', 'abdominal pain']\n"
          ]
        }
      ]
    },
    {
      "cell_type": "markdown",
      "source": [
        "Function for extracting top 4 symptoms for all the disease in the data"
      ],
      "metadata": {
        "id": "JPVOtdpSaZBr"
      }
    },
    {
      "cell_type": "code",
      "source": [
        "def extract_top_symptoms_for_all_diseases(df, top_n=4):\n",
        "    top_symptoms_dict = {}\n",
        "    for index, row in df.iterrows():\n",
        "        disease_name = [row['Diseases']]\n",
        "        top_symptoms = extract_top_symptoms_for_disease(df, disease_name, top_n)\n",
        "        top_symptoms_dict[row['Diseases']] = top_symptoms\n",
        "    return top_symptoms_dict\n",
        "\n",
        "top_true_symptoms_all_diseases = extract_top_symptoms_for_all_diseases(data)"
      ],
      "metadata": {
        "id": "vs4lZqxyZh-M"
      },
      "execution_count": 3,
      "outputs": []
    },
    {
      "cell_type": "markdown",
      "source": [
        "# Constructing Knowledge Graph"
      ],
      "metadata": {
        "id": "Wforpf9sVy4O"
      }
    },
    {
      "cell_type": "code",
      "source": [
        "G = nx.Graph()\n",
        "for index, row in data.iterrows():\n",
        "  disease = row[\"Diseases\"]\n",
        "  symptoms = row[\"Symptoms\"].split(\",\")\n",
        "  G.add_node(disease, type='disease')\n",
        "  #print(symptoms)\n",
        "  for symptom in symptoms:\n",
        "    symptom, score = symptom.strip().split(\"(\")\n",
        "    score = float(score[:-1])\n",
        "    symptom = symptom.strip()\n",
        "    #print(symptom, score)\n",
        "    G.add_node(symptom, type='symptom')\n",
        "    G.add_edge(symptom, disease, weight=score)\n",
        "\n",
        "\n",
        "pos = nx.spring_layout(G)\n",
        "nx.draw(G, pos, with_labels=True,  node_color=\"skyblue\",edge_color ='red',font_weight = 'bold', font_size=10)\n",
        "edge_labels = nx.get_edge_attributes(G, 'weight')\n",
        "nx.draw_networkx_edge_labels(G, pos, edge_labels=edge_labels)\n",
        "\n",
        "plt.show()"
      ],
      "metadata": {
        "colab": {
          "base_uri": "https://localhost:8080/",
          "height": 516
        },
        "id": "aYFr3mgyOn4z",
        "outputId": "db4c51aa-6369-4c32-9caf-fd35816e5fd0"
      },
      "execution_count": null,
      "outputs": [
        {
          "output_type": "display_data",
          "data": {
            "text/plain": [
              "<Figure size 640x480 with 1 Axes>"
            ],
            "image/png": "[encoded data removed]"
          },
          "metadata": {}
        }
      ]
    },
    {
      "cell_type": "code",
      "source": [
        "num_nodes = nx.number_of_nodes(G)\n",
        "print(\"Number of nodes in the graph:\", num_nodes)"
      ],
      "metadata": {
        "colab": {
          "base_uri": "https://localhost:8080/"
        },
        "id": "Cnjrxh9UV4zB",
        "outputId": "d26ea52e-d72b-4c4a-f963-6c3d3f73d6ae"
      },
      "execution_count": null,
      "outputs": [
        {
          "output_type": "stream",
          "name": "stdout",
          "text": [
            "Number of nodes in the graph: 486\n"
          ]
        }
      ]
    },
    {
      "cell_type": "code",
      "source": [
        "num_edges = nx.number_of_edges(G)\n",
        "print(\"Number of nodes in the graph:\", num_edges)"
      ],
      "metadata": {
        "colab": {
          "base_uri": "https://localhost:8080/"
        },
        "id": "OQktTsSMOFLs",
        "outputId": "f677e783-ba68-4fe1-a148-12ac56d8f44a"
      },
      "execution_count": null,
      "outputs": [
        {
          "output_type": "stream",
          "name": "stdout",
          "text": [
            "Number of nodes in the graph: 3709\n"
          ]
        }
      ]
    },
    {
      "cell_type": "code",
      "source": [
        "disease_nodes = [n for n, d in G.nodes(data=True) if d['type'] == 'disease']\n",
        "symptom_nodes = [n for n, d in G.nodes(data=True) if d['type'] == 'symptom']"
      ],
      "metadata": {
        "id": "G5g8g4voWRsf"
      },
      "execution_count": null,
      "outputs": []
    },
    {
      "cell_type": "code",
      "source": [
        "#print(symptom_nodes)"
      ],
      "metadata": {
        "id": "QNNwN9BtWStM"
      },
      "execution_count": null,
      "outputs": []
    },
    {
      "cell_type": "code",
      "source": [
        "num_disease = len(np.unique(disease_nodes))\n",
        "num_symptoms= len(np.unique(symptom_nodes))\n"
      ],
      "metadata": {
        "id": "vpe5KQeDZhrk"
      },
      "execution_count": null,
      "outputs": []
    },
    {
      "cell_type": "code",
      "source": [
        "plt.bar(['Diseases Nodes', 'Symptoms Nodes'], [num_disease, num_symptoms])\n",
        "plt.xlabel('Node Type')\n",
        "plt.ylabel('Count')\n",
        "plt.title('Distribution of Nodes by Type')\n",
        "plt.show()"
      ],
      "metadata": {
        "colab": {
          "base_uri": "https://localhost:8080/",
          "height": 472
        },
        "id": "cgqsMQZ7HBOE",
        "outputId": "5565764f-166c-4122-8b2a-5b84c48a7672"
      },
      "execution_count": null,
      "outputs": [
        {
          "output_type": "display_data",
          "data": {
            "text/plain": [
              "<Figure size 640x480 with 1 Axes>"
            ],
            "image/png": "[encoded data removed]"
          },
          "metadata": {}
        }
      ]
    },
    {
      "cell_type": "markdown",
      "source": [
        "Creating Dataframe that stores list of disease for each symptoms"
      ],
      "metadata": {
        "id": "p82pn5dAhtMw"
      }
    },
    {
      "cell_type": "markdown",
      "source": [
        "This will be used as ground truth labels when calculating the accuracy for disease prediction"
      ],
      "metadata": {
        "id": "w_YLlgPchzXU"
      }
    },
    {
      "cell_type": "code",
      "source": [
        "symptom_disease_dict = {}\n",
        "\n",
        "for node in G.nodes():\n",
        "    if G.nodes[node]['type'] == 'symptom':\n",
        "      diseases_weights_str = \"\"\n",
        "      diseases_weights = []\n",
        "      for neighbor in G.neighbors(node):\n",
        "        if G.nodes[neighbor]['type'] == 'disease':\n",
        "          disease_name = neighbor\n",
        "          edge_weight = G.edges[node, neighbor]['weight']\n",
        "          diseases_weights.append((disease_name, edge_weight))\n",
        "      sorted_diseases_weights = sorted(diseases_weights, key=lambda x: x[1], reverse=True)\n",
        "      diseases_weights_str = \", \".join([f\"{disease} ({weight})\" for disease, weight in sorted_diseases_weights])\n",
        "      symptom_disease_dict[node] = diseases_weights_str\n",
        "\n",
        "df = pd.DataFrame(symptom_disease_dict.items(), columns=['Symptoms', 'Diseases_Weights'])\n",
        "df"
      ],
      "metadata": {
        "colab": {
          "base_uri": "https://localhost:8080/",
          "height": 424
        },
        "id": "MksxcF_chmXl",
        "outputId": "a1d22273-d13f-4546-ab21-93e9f68bc724"
      },
      "execution_count": null,
      "outputs": [
        {
          "output_type": "execute_result",
          "data": {
            "text/plain": [
              "                           Symptoms  \\\n",
              "0                              pain   \n",
              "1                             fever   \n",
              "2                          swelling   \n",
              "3                           redness   \n",
              "4                            chills   \n",
              "..                              ...   \n",
              "325                excess urination   \n",
              "326                increased thirst   \n",
              "327  scarring within the bile ducts   \n",
              "328                    cloudy urine   \n",
              "329              frequent urination   \n",
              "\n",
              "                                      Diseases_Weights  \n",
              "0    appendicitis (0.881), ovarian cyst (0.785), pa...  \n",
              "1    strep throat (0.347), neutropenia (0.344), men...  \n",
              "2    sprained ankle (0.461), cellulitis (0.404), sp...  \n",
              "3    cellulitis (0.508), pink eye (0.318), insect b...  \n",
              "4    kidney infection (0.287), strep throat (0.215)...  \n",
              "..                                                 ...  \n",
              "325   type 1 diabetes (0.012), type 2 diabetes (0.007)  \n",
              "326   type 1 diabetes (0.007), type 2 diabetes (0.003)  \n",
              "327                         ulcerative colitis (0.027)  \n",
              "328                     urinary tract infection (0.01)  \n",
              "329                    urinary tract infection (0.004)  \n",
              "\n",
              "[330 rows x 2 columns]"
            ],
            "text/html": [
              "\n",
              "  <div id=\"df-b818b45f-7097-4137-a148-75798109a13f\" class=\"colab-df-container\">\n",
              "    <div>\n",
              "<style scoped>\n",
              "    .dataframe tbody tr th:only-of-type {\n",
              "        vertical-align: middle;\n",
              "    }\n",
              "\n",
              "    .dataframe tbody tr th {\n",
              "        vertical-align: top;\n",
              "    }\n",
              "\n",
              "    .dataframe thead th {\n",
              "        text-align: right;\n",
              "    }\n",
              "</style>\n",
              "<table border=\"1\" class=\"dataframe\">\n",
              "  <thead>\n",
              "    <tr style=\"text-align: right;\">\n",
              "      <th></th>\n",
              "      <th>Symptoms</th>\n",
              "      <th>Diseases_Weights</th>\n",
              "    </tr>\n",
              "  </thead>\n",
              "  <tbody>\n",
              "    <tr>\n",
              "      <th>0</th>\n",
              "      <td>pain</td>\n",
              "      <td>appendicitis (0.881), ovarian cyst (0.785), pa...</td>\n",
              "    </tr>\n",
              "    <tr>\n",
              "      <th>1</th>\n",
              "      <td>fever</td>\n",
              "      <td>strep throat (0.347), neutropenia (0.344), men...</td>\n",
              "    </tr>\n",
              "    <tr>\n",
              "      <th>2</th>\n",
              "      <td>swelling</td>\n",
              "      <td>sprained ankle (0.461), cellulitis (0.404), sp...</td>\n",
              "    </tr>\n",
              "    <tr>\n",
              "      <th>3</th>\n",
              "      <td>redness</td>\n",
              "      <td>cellulitis (0.508), pink eye (0.318), insect b...</td>\n",
              "    </tr>\n",
              "    <tr>\n",
              "      <th>4</th>\n",
              "      <td>chills</td>\n",
              "      <td>kidney infection (0.287), strep throat (0.215)...</td>\n",
              "    </tr>\n",
              "    <tr>\n",
              "      <th>...</th>\n",
              "      <td>...</td>\n",
              "      <td>...</td>\n",
              "    </tr>\n",
              "    <tr>\n",
              "      <th>325</th>\n",
              "      <td>excess urination</td>\n",
              "      <td>type 1 diabetes (0.012), type 2 diabetes (0.007)</td>\n",
              "    </tr>\n",
              "    <tr>\n",
              "      <th>326</th>\n",
              "      <td>increased thirst</td>\n",
              "      <td>type 1 diabetes (0.007), type 2 diabetes (0.003)</td>\n",
              "    </tr>\n",
              "    <tr>\n",
              "      <th>327</th>\n",
              "      <td>scarring within the bile ducts</td>\n",
              "      <td>ulcerative colitis (0.027)</td>\n",
              "    </tr>\n",
              "    <tr>\n",
              "      <th>328</th>\n",
              "      <td>cloudy urine</td>\n",
              "      <td>urinary tract infection (0.01)</td>\n",
              "    </tr>\n",
              "    <tr>\n",
              "      <th>329</th>\n",
              "      <td>frequent urination</td>\n",
              "      <td>urinary tract infection (0.004)</td>\n",
              "    </tr>\n",
              "  </tbody>\n",
              "</table>\n",
              "<p>330 rows × 2 columns</p>\n",
              "</div>\n",
              "    <div class=\"colab-df-buttons\">\n",
              "\n",
              "  <div class=\"colab-df-container\">\n",
              "    <button class=\"colab-df-convert\" onclick=\"convertToInteractive('df-b818b45f-7097-4137-a148-75798109a13f')\"\n",
              "            title=\"Convert this dataframe to an interactive table.\"\n",
              "            style=\"display:none;\">\n",
              "\n",
              "  <svg xmlns=\"http://www.w3.org/2000/svg\" height=\"24px\" viewBox=\"0 -960 960 960\">\n",
              "    <path d=\"M120-120v-720h720v720H120Zm60-500h600v-160H180v160Zm220 220h160v-160H400v160Zm0 220h160v-160H400v160ZM180-400h160v-160H180v160Zm440 0h160v-160H620v160ZM180-180h160v-160H180v160Zm440 0h160v-160H620v160Z\"/>\n",
              "  </svg>\n",
              "    </button>\n",
              "\n",
              "  <style>\n",
              "    .colab-df-container {\n",
              "      display:flex;\n",
              "      gap: 12px;\n",
              "    }\n",
              "\n",
              "    .colab-df-convert {\n",
              "      background-color: #E8F0FE;\n",
              "      border: none;\n",
              "      border-radius: 50%;\n",
              "      cursor: pointer;\n",
              "      display: none;\n",
              "      fill: #1967D2;\n",
              "      height: 32px;\n",
              "      padding: 0 0 0 0;\n",
              "      width: 32px;\n",
              "    }\n",
              "\n",
              "    .colab-df-convert:hover {\n",
              "      background-color: #E2EBFA;\n",
              "      box-shadow: 0px 1px 2px rgba(60, 64, 67, 0.3), 0px 1px 3px 1px rgba(60, 64, 67, 0.15);\n",
              "      fill: #174EA6;\n",
              "    }\n",
              "\n",
              "    .colab-df-buttons div {\n",
              "      margin-bottom: 4px;\n",
              "    }\n",
              "\n",
              "    [theme=dark] .colab-df-convert {\n",
              "      background-color: #3B4455;\n",
              "      fill: #D2E3FC;\n",
              "    }\n",
              "\n",
              "    [theme=dark] .colab-df-convert:hover {\n",
              "      background-color: #434B5C;\n",
              "      box-shadow: 0px 1px 3px 1px rgba(0, 0, 0, 0.15);\n",
              "      filter: drop-shadow(0px 1px 2px rgba(0, 0, 0, 0.3));\n",
              "      fill: #FFFFFF;\n",
              "    }\n",
              "  </style>\n",
              "\n",
              "    <script>\n",
              "      const buttonEl =\n",
              "        document.querySelector('#df-b818b45f-7097-4137-a148-75798109a13f button.colab-df-convert');\n",
              "      buttonEl.style.display =\n",
              "        google.colab.kernel.accessAllowed ? 'block' : 'none';\n",
              "\n",
              "      async function convertToInteractive(key) {\n",
              "        const element = document.querySelector('#df-b818b45f-7097-4137-a148-75798109a13f');\n",
              "        const dataTable =\n",
              "          await google.colab.kernel.invokeFunction('convertToInteractive',\n",
              "                                                    [key], {});\n",
              "        if (!dataTable) return;\n",
              "\n",
              "        const docLinkHtml = 'Like what you see? Visit the ' +\n",
              "          '<a target=\"_blank\" href=https://colab.research.google.com/notebooks/data_table.ipynb>data table notebook</a>'\n",
              "          + ' to learn more about interactive tables.';\n",
              "        element.innerHTML = '';\n",
              "        dataTable['output_type'] = 'display_data';\n",
              "        await google.colab.output.renderOutput(dataTable, element);\n",
              "        const docLink = document.createElement('div');\n",
              "        docLink.innerHTML = docLinkHtml;\n",
              "        element.appendChild(docLink);\n",
              "      }\n",
              "    </script>\n",
              "  </div>\n",
              "\n",
              "\n",
              "<div id=\"df-eb8be81f-5a12-4601-a6c4-6dd07d8f7b1a\">\n",
              "  <button class=\"colab-df-quickchart\" onclick=\"quickchart('df-eb8be81f-5a12-4601-a6c4-6dd07d8f7b1a')\"\n",
              "            title=\"Suggest charts\"\n",
              "            style=\"display:none;\">\n",
              "\n",
              "<svg xmlns=\"http://www.w3.org/2000/svg\" height=\"24px\"viewBox=\"0 0 24 24\"\n",
              "     width=\"24px\">\n",
              "    <g>\n",
              "        <path d=\"M19 3H5c-1.1 0-2 .9-2 2v14c0 1.1.9 2 2 2h14c1.1 0 2-.9 2-2V5c0-1.1-.9-2-2-2zM9 17H7v-7h2v7zm4 0h-2V7h2v10zm4 0h-2v-4h2v4z\"/>\n",
              "    </g>\n",
              "</svg>\n",
              "  </button>\n",
              "\n",
              "<style>\n",
              "  .colab-df-quickchart {\n",
              "      --bg-color: #E8F0FE;\n",
              "      --fill-color: #1967D2;\n",
              "      --hover-bg-color: #E2EBFA;\n",
              "      --hover-fill-color: #174EA6;\n",
              "      --disabled-fill-color: #AAA;\n",
              "      --disabled-bg-color: #DDD;\n",
              "  }\n",
              "\n",
              "  [theme=dark] .colab-df-quickchart {\n",
              "      --bg-color: #3B4455;\n",
              "      --fill-color: #D2E3FC;\n",
              "      --hover-bg-color: #434B5C;\n",
              "      --hover-fill-color: #FFFFFF;\n",
              "      --disabled-bg-color: #3B4455;\n",
              "      --disabled-fill-color: #666;\n",
              "  }\n",
              "\n",
              "  .colab-df-quickchart {\n",
              "    background-color: var(--bg-color);\n",
              "    border: none;\n",
              "    border-radius: 50%;\n",
              "    cursor: pointer;\n",
              "    display: none;\n",
              "    fill: var(--fill-color);\n",
              "    height: 32px;\n",
              "    padding: 0;\n",
              "    width: 32px;\n",
              "  }\n",
              "\n",
              "  .colab-df-quickchart:hover {\n",
              "    background-color: var(--hover-bg-color);\n",
              "    box-shadow: 0 1px 2px rgba(60, 64, 67, 0.3), 0 1px 3px 1px rgba(60, 64, 67, 0.15);\n",
              "    fill: var(--button-hover-fill-color);\n",
              "  }\n",
              "\n",
              "  .colab-df-quickchart-complete:disabled,\n",
              "  .colab-df-quickchart-complete:disabled:hover {\n",
              "    background-color: var(--disabled-bg-color);\n",
              "    fill: var(--disabled-fill-color);\n",
              "    box-shadow: none;\n",
              "  }\n",
              "\n",
              "  .colab-df-spinner {\n",
              "    border: 2px solid var(--fill-color);\n",
              "    border-color: transparent;\n",
              "    border-bottom-color: var(--fill-color);\n",
              "    animation:\n",
              "      spin 1s steps(1) infinite;\n",
              "  }\n",
              "\n",
              "  @keyframes spin {\n",
              "    0% {\n",
              "      border-color: transparent;\n",
              "      border-bottom-color: var(--fill-color);\n",
              "      border-left-color: var(--fill-color);\n",
              "    }\n",
              "    20% {\n",
              "      border-color: transparent;\n",
              "      border-left-color: var(--fill-color);\n",
              "      border-top-color: var(--fill-color);\n",
              "    }\n",
              "    30% {\n",
              "      border-color: transparent;\n",
              "      border-left-color: var(--fill-color);\n",
              "      border-top-color: var(--fill-color);\n",
              "      border-right-color: var(--fill-color);\n",
              "    }\n",
              "    40% {\n",
              "      border-color: transparent;\n",
              "      border-right-color: var(--fill-color);\n",
              "      border-top-color: var(--fill-color);\n",
              "    }\n",
              "    60% {\n",
              "      border-color: transparent;\n",
              "      border-right-color: var(--fill-color);\n",
              "    }\n",
              "    80% {\n",
              "      border-color: transparent;\n",
              "      border-right-color: var(--fill-color);\n",
              "      border-bottom-color: var(--fill-color);\n",
              "    }\n",
              "    90% {\n",
              "      border-color: transparent;\n",
              "      border-bottom-color: var(--fill-color);\n",
              "    }\n",
              "  }\n",
              "</style>\n",
              "\n",
              "  <script>\n",
              "    async function quickchart(key) {\n",
              "      const quickchartButtonEl =\n",
              "        document.querySelector('#' + key + ' button');\n",
              "      quickchartButtonEl.disabled = true;  // To prevent multiple clicks.\n",
              "      quickchartButtonEl.classList.add('colab-df-spinner');\n",
              "      try {\n",
              "        const charts = await google.colab.kernel.invokeFunction(\n",
              "            'suggestCharts', [key], {});\n",
              "      } catch (error) {\n",
              "        console.error('Error during call to suggestCharts:', error);\n",
              "      }\n",
              "      quickchartButtonEl.classList.remove('colab-df-spinner');\n",
              "      quickchartButtonEl.classList.add('colab-df-quickchart-complete');\n",
              "    }\n",
              "    (() => {\n",
              "      let quickchartButtonEl =\n",
              "        document.querySelector('#df-eb8be81f-5a12-4601-a6c4-6dd07d8f7b1a button');\n",
              "      quickchartButtonEl.style.display =\n",
              "        google.colab.kernel.accessAllowed ? 'block' : 'none';\n",
              "    })();\n",
              "  </script>\n",
              "</div>\n",
              "\n",
              "  <div id=\"id_6379ae4e-ad04-4add-8ee8-c2dcc0b522e6\">\n",
              "    <style>\n",
              "      .colab-df-generate {\n",
              "        background-color: #E8F0FE;\n",
              "        border: none;\n",
              "        border-radius: 50%;\n",
              "        cursor: pointer;\n",
              "        display: none;\n",
              "        fill: #1967D2;\n",
              "        height: 32px;\n",
              "        padding: 0 0 0 0;\n",
              "        width: 32px;\n",
              "      }\n",
              "\n",
              "      .colab-df-generate:hover {\n",
              "        background-color: #E2EBFA;\n",
              "        box-shadow: 0px 1px 2px rgba(60, 64, 67, 0.3), 0px 1px 3px 1px rgba(60, 64, 67, 0.15);\n",
              "        fill: #174EA6;\n",
              "      }\n",
              "\n",
              "      [theme=dark] .colab-df-generate {\n",
              "        background-color: #3B4455;\n",
              "        fill: #D2E3FC;\n",
              "      }\n",
              "\n",
              "      [theme=dark] .colab-df-generate:hover {\n",
              "        background-color: #434B5C;\n",
              "        box-shadow: 0px 1px 3px 1px rgba(0, 0, 0, 0.15);\n",
              "        filter: drop-shadow(0px 1px 2px rgba(0, 0, 0, 0.3));\n",
              "        fill: #FFFFFF;\n",
              "      }\n",
              "    </style>\n",
              "    <button class=\"colab-df-generate\" onclick=\"generateWithVariable('df')\"\n",
              "            title=\"Generate code using this dataframe.\"\n",
              "            style=\"display:none;\">\n",
              "\n",
              "  <svg xmlns=\"http://www.w3.org/2000/svg\" height=\"24px\"viewBox=\"0 0 24 24\"\n",
              "       width=\"24px\">\n",
              "    <path d=\"M7,19H8.4L18.45,9,17,7.55,7,17.6ZM5,21V16.75L18.45,3.32a2,2,0,0,1,2.83,0l1.4,1.43a1.91,1.91,0,0,1,.58,1.4,1.91,1.91,0,0,1-.58,1.4L9.25,21ZM18.45,9,17,7.55Zm-12,3A5.31,5.31,0,0,0,4.9,8.1,5.31,5.31,0,0,0,1,6.5,5.31,5.31,0,0,0,4.9,4.9,5.31,5.31,0,0,0,6.5,1,5.31,5.31,0,0,0,8.1,4.9,5.31,5.31,0,0,0,12,6.5,5.46,5.46,0,0,0,6.5,12Z\"/>\n",
              "  </svg>\n",
              "    </button>\n",
              "    <script>\n",
              "      (() => {\n",
              "      const buttonEl =\n",
              "        document.querySelector('#id_6379ae4e-ad04-4add-8ee8-c2dcc0b522e6 button.colab-df-generate');\n",
              "      buttonEl.style.display =\n",
              "        google.colab.kernel.accessAllowed ? 'block' : 'none';\n",
              "\n",
              "      buttonEl.onclick = () => {\n",
              "        google.colab.notebook.generateWithVariable('df');\n",
              "      }\n",
              "      })();\n",
              "    </script>\n",
              "  </div>\n",
              "\n",
              "    </div>\n",
              "  </div>\n"
            ],
            "application/vnd.google.colaboratory.intrinsic+json": {
              "type": "dataframe",
              "variable_name": "df",
              "summary": "{\n  \"name\": \"df\",\n  \"rows\": 330,\n  \"fields\": [\n    {\n      \"column\": \"Symptoms\",\n      \"properties\": {\n        \"dtype\": \"string\",\n        \"num_unique_values\": 330,\n        \"samples\": [\n          \"lesion\",\n          \"asymmetry\",\n          \"hand pain\"\n        ],\n        \"semantic_type\": \"\",\n        \"description\": \"\"\n      }\n    },\n    {\n      \"column\": \"Diseases_Weights\",\n      \"properties\": {\n        \"dtype\": \"string\",\n        \"num_unique_values\": 322,\n        \"samples\": [\n          \"thoracic radiculopathy (0.061), spondylosis (0.041), low back pain (0.024), sciatica (0.023), prostate cancer (0.022), myasthenia gravis (0.02), brain tumor (0.019), epilepsy (0.017), multiple sclerosis (0.016), osteoarthritis (0.015), fibromyalgia (0.011), dementia (0.01), urinary tract infection (0.01), bone infection (0.009), encephalopathy (0.008), parkinson's disease (0.005)\",\n          \"endometriosis (0.142), chlamydia (0.089), ovarian cyst (0.087), fibroids (0.073), polycystic ovary syndrome (0.06), ectopic pregnancy (0.04), miscarriage (0.027), cervical cancer (0.021), appendicitis (0.017), sickle cell anemia (0.012), epididymitis (0.011), urinary tract infection (0.008), kidney stone (0.007), fibromyalgia (0.006)\",\n          \"retinal detachment (0.125), glaucoma (0.06), cataracts (0.02), tension headache (0.017), stroke (0.013), migraine (0.006), multiple sclerosis (0.003), post traumatic stress disorder (0.003)\"\n        ],\n        \"semantic_type\": \"\",\n        \"description\": \"\"\n      }\n    }\n  ]\n}"
            }
          },
          "metadata": {},
          "execution_count": 20
        }
      ]
    },
    {
      "cell_type": "markdown",
      "source": [
        "function to extract the top 4 disease for the given symptom from above dataframe"
      ],
      "metadata": {
        "id": "YM73-KsJiCTW"
      }
    },
    {
      "cell_type": "code",
      "source": [
        "def extract_top_disease_for_symptoms(df, symptom_list, top_n=4):\n",
        "    row = df[df['Symptoms'].isin(symptom_list)]\n",
        "    if row.empty:\n",
        "        print(f\"symptom '{disease_name}' not found in the DataFrame.\")\n",
        "        return []\n",
        "    diseases_with_weights = row.iloc[0]['Diseases_Weights'].split(', ')\n",
        "    top_diseases = []\n",
        "    for disease_with_weight in diseases_with_weights:\n",
        "        disease, _ = disease_with_weight.split('(')\n",
        "        top_diseases.append(disease.strip())\n",
        "    return top_diseases[:top_n]\n",
        "\n",
        "symptom_name = [\"pain\"]\n",
        "top_true_diseases = extract_top_disease_for_symptoms(df, symptom_name)\n",
        "print(f\"Top symptoms for {symptom_name}: {top_true_diseases}\")"
      ],
      "metadata": {
        "colab": {
          "base_uri": "https://localhost:8080/"
        },
        "id": "xsXD_NJ2iB0u",
        "outputId": "e0a9ccde-584d-4a28-a3b4-7f8491222ade"
      },
      "execution_count": null,
      "outputs": [
        {
          "output_type": "stream",
          "name": "stdout",
          "text": [
            "Top symptoms for ['pain']: ['appendicitis', 'ovarian cyst', 'pancreatitis', 'sickle cell anemia']\n"
          ]
        }
      ]
    },
    {
      "cell_type": "code",
      "source": [
        "def extract_top_diseases_for_all_symptoms(df, top_n):\n",
        "    top_diseases_dict = {}\n",
        "    for index, row in df.iterrows():\n",
        "        symptom_name = [row['Symptoms']]\n",
        "        top_diseases = extract_top_disease_for_symptoms(df, symptom_name, top_n)\n",
        "        top_diseases_dict[row['Symptoms']] = top_diseases\n",
        "    return top_diseases_dict\n",
        "top_n=4\n",
        "top_true_disease_all_symptoms = extract_top_diseases_for_all_symptoms(df,top_n)\n",
        "#top_true_symptoms_all_diseases"
      ],
      "metadata": {
        "id": "yixgq2mmkN2S"
      },
      "execution_count": null,
      "outputs": []
    },
    {
      "cell_type": "markdown",
      "source": [
        "# Graph Traversal for disease prediction"
      ],
      "metadata": {
        "id": "hPO3oYRvPtJr"
      }
    },
    {
      "cell_type": "markdown",
      "source": [
        "Traversing the graph to extract the top 4 disease for the given symptom based on the edge weight"
      ],
      "metadata": {
        "id": "wchkRUysS4pW"
      }
    },
    {
      "cell_type": "code",
      "source": [
        "from collections import defaultdict\n",
        "\n",
        "def find_top_diseases(symptom_list):\n",
        "    top_disease_list = []\n",
        "    disease_weights = defaultdict(float)\n",
        "\n",
        "    for symptom in symptom_list:\n",
        "        if symptom not in G.nodes:\n",
        "            continue\n",
        "        associated_diseases = [neighbor for neighbor in G.neighbors(symptom) if G.nodes[neighbor]['type'] == 'disease']\n",
        "        for disease in associated_diseases:\n",
        "            weight = G.edges[(symptom, disease)]['weight']\n",
        "            # Adding the weight to the aggregated weights for the disease\n",
        "            disease_weights[disease] += weight\n",
        "\n",
        "    # Sorting in descending order\n",
        "    sorted_diseases = sorted(disease_weights.items(), key=lambda x: x[1], reverse=True)\n",
        "    top_disease = [disease for disease, _ in sorted_diseases[:4]]\n",
        "    top_disease_list.append((top_disease))\n",
        "    # return top 4 disease\n",
        "    return top_disease_list\n",
        "\n",
        "symptoms = [\"pain\"]\n",
        "result = find_top_diseases(symptoms)\n",
        "print(result)\n"
      ],
      "metadata": {
        "colab": {
          "base_uri": "https://localhost:8080/"
        },
        "id": "_IbWjHmcdD-z",
        "outputId": "d57f62a8-ea41-4d6b-abd5-f5be4f4fe988"
      },
      "execution_count": null,
      "outputs": [
        {
          "output_type": "stream",
          "name": "stdout",
          "text": [
            "[['appendicitis', 'ovarian cyst', 'pancreatitis', 'sickle cell anemia']]\n"
          ]
        }
      ]
    },
    {
      "cell_type": "markdown",
      "source": [
        "# Graph Traversal for symptom prediction"
      ],
      "metadata": {
        "id": "clXT7zrnPyPc"
      }
    },
    {
      "cell_type": "markdown",
      "source": [
        "Traversing the graph to extract the top 4 symptoms for the given disease based on the edge weight."
      ],
      "metadata": {
        "id": "nkTY7dYDVrzF"
      }
    },
    {
      "cell_type": "code",
      "source": [
        "def predict_top_symptoms(disease_list):\n",
        "    top_symptoms_list = []\n",
        "    for disease in disease_list:\n",
        "        if disease not in G.nodes:\n",
        "            continue\n",
        "        symptom_weights = defaultdict(float)\n",
        "        associated_symptoms = [neighbor for neighbor in G.neighbors(disease) if G.nodes[neighbor]['type'] == 'symptom']\n",
        "        for symptom in associated_symptoms:\n",
        "            weight = G.edges[(disease, symptom)]['weight']\n",
        "            symptom_weights[symptom] += weight\n",
        "\n",
        "        sorted_symptoms = sorted(symptom_weights.items(), key=lambda x: x[1], reverse=True)\n",
        "        top_symptoms = [symptom for symptom, _ in sorted_symptoms[:4]]\n",
        "        top_symptoms_list.append((top_symptoms))\n",
        "\n",
        "    return top_symptoms_list\n",
        "\n",
        "diseases = [ \"acid reflux\"]\n",
        "result = predict_top_symptoms(diseases)\n",
        "print(result)"
      ],
      "metadata": {
        "colab": {
          "base_uri": "https://localhost:8080/"
        },
        "id": "TYLL8edFRgfz",
        "outputId": "fc4f0b98-40d7-45fe-e5d6-724bfb2fd312"
      },
      "execution_count": null,
      "outputs": [
        {
          "output_type": "stream",
          "name": "stdout",
          "text": [
            "[['pain', 'nausea', 'pain in upper abdomen', 'abdominal pain']]\n"
          ]
        }
      ]
    },
    {
      "cell_type": "markdown",
      "source": [
        "# Exracting disease and symptoms using Node Embeddings"
      ],
      "metadata": {
        "id": "4d0xX6MIdcfv"
      }
    },
    {
      "cell_type": "code",
      "source": [
        "from node2vec import Node2Vec\n",
        "import torch\n",
        "# Generating node embeddings\n",
        "node2vec = Node2Vec(G, dimensions=64, walk_length=50, num_walks=200, workers=4)\n",
        "model = node2vec.fit(window=10, min_count=1, batch_words=4)"
      ],
      "metadata": {
        "colab": {
          "base_uri": "https://localhost:8080/",
          "height": 104,
          "referenced_widgets": [
            "ae8592eed7344db2aa0b5b398702dfa6",
            "22dce0ae68d242e3a76a5b417a48b49c",
            "b77c8e356e1f4f7680ae040314fb0be1",
            "5973caf019824a0c8527405e6583f17e",
            "dfca22f35cea4cb3aeb075d726966d93",
            "40cf1b5cbbc847569aebf905e7098aae",
            "e4cb00d181a24611a7440c616e9ad263",
            "492c8cb1b0a24d54b3704af76bb4126a",
            "d4a47b22ae2b44f5bc3618b69d34d2df",
            "caaed610a5a142979c8fb2272ab30e78",
            "76c07906a8354ea7a2d37c05e5f2dcc5"
          ]
        },
        "id": "Moxv3P-kPGy0",
        "outputId": "93d78f06-e1c0-4c3a-afff-f1af2919e4d8"
      },
      "execution_count": null,
      "outputs": [
        {
          "output_type": "display_data",
          "data": {
            "text/plain": [
              "Computing transition probabilities:   0%|          | 0/486 [00:00<?, ?it/s]"
            ],
            "application/vnd.jupyter.widget-view+json": {
              "version_major": 2,
              "version_minor": 0,
              "model_id": "ae8592eed7344db2aa0b5b398702dfa6"
            }
          },
          "metadata": {}
        },
        {
          "output_type": "stream",
          "name": "stderr",
          "text": [
            "/usr/local/lib/python3.10/dist-packages/joblib/externals/loky/backend/fork_exec.py:38: RuntimeWarning: os.fork() was called. os.fork() is incompatible with multithreaded code, and JAX is multithreaded, so this will likely lead to a deadlock.\n",
            "  pid = os.fork()\n"
          ]
        }
      ]
    },
    {
      "cell_type": "code",
      "source": [
        "node_embeddings = {node: model.wv[node] for node in G.nodes}\n",
        "# Embeddings for both the disease and symptoms nodes\n",
        "disease_embeddings= {node: model.wv[node] for node in G.nodes() if G.nodes[node]['type'] == 'disease'}\n",
        "symptom_embeddings = {node: model.wv[node] for node in G.nodes() if G.nodes[node]['type'] == 'symptom'}"
      ],
      "metadata": {
        "id": "BwFQK-yQwmqX"
      },
      "execution_count": null,
      "outputs": []
    },
    {
      "cell_type": "code",
      "source": [
        "node_embeddings_tensor = torch.tensor([node_embeddings[node] for node in node_embeddings], dtype=torch.float)"
      ],
      "metadata": {
        "id": "X4zJ5s-ZlyWo"
      },
      "execution_count": null,
      "outputs": []
    },
    {
      "cell_type": "markdown",
      "source": [
        "# Visualization of Node Embeddings"
      ],
      "metadata": {
        "id": "WSwpkb5EiRUd"
      }
    },
    {
      "cell_type": "code",
      "source": [
        "node_embeddings_array = node_embeddings_tensor.numpy()\n",
        "#node_embeddings_array"
      ],
      "metadata": {
        "id": "Z5F27JOml2pi"
      },
      "execution_count": null,
      "outputs": []
    },
    {
      "cell_type": "code",
      "source": [
        "#Visualization of node embeddings in 2D\n",
        "import matplotlib.pyplot as plt\n",
        "from sklearn.manifold import TSNE\n",
        "tsne = TSNE(n_components=2, random_state=42)\n",
        "embeddings_tsne= tsne.fit_transform(node_embeddings_array)\n",
        "plt.figure(figsize=(12, 6))\n",
        "plt.subplot(1, 2, 1)\n",
        "plt.scatter(embeddings_tsne[:, 0], embeddings_tsne[:, 1], s=10)\n",
        "plt.title('Node Embeddings')\n",
        "plt.show()\n"
      ],
      "metadata": {
        "colab": {
          "base_uri": "https://localhost:8080/",
          "height": 545
        },
        "id": "rcbw8F0KlNKj",
        "outputId": "8666ff58-6fd2-4740-8667-379937411474"
      },
      "execution_count": null,
      "outputs": [
        {
          "output_type": "display_data",
          "data": {
            "text/plain": [
              "<Figure size 1200x600 with 1 Axes>"
            ],
            "image/png": "[encoded data removed]"
          },
          "metadata": {}
        }
      ]
    },
    {
      "cell_type": "markdown",
      "source": [
        "# Predicting symptoms based on disease"
      ],
      "metadata": {
        "id": "8Qyx3c3JfDRH"
      }
    },
    {
      "cell_type": "markdown",
      "source": [
        "Computing the similarity between embeddings of the input diseases with all the symptoms embeddings."
      ],
      "metadata": {
        "id": "prlkEktKyuWM"
      }
    },
    {
      "cell_type": "code",
      "source": [
        "from sklearn.metrics.pairwise import cosine_similarity\n",
        "def predict_top_symptoms_based_on_diseases(disease_embeddings, symptom_embeddings, disease_list, top_n=4):\n",
        "    all_similarities = {}\n",
        "    for disease in disease_list:\n",
        "        if disease in disease_embeddings:\n",
        "            disease_embedding = disease_embeddings[disease]\n",
        "            for symptom_node, symptom_embedding in symptom_embeddings.items():\n",
        "                similarity = cosine_similarity([disease_embedding], [symptom_embedding])[0][0]\n",
        "                if symptom_node not in all_similarities:\n",
        "                    all_similarities[symptom_node] = similarity\n",
        "                else:\n",
        "                    all_similarities[symptom_node] += similarity\n",
        "    # ranking symptoms based on accumulated similarities\n",
        "    ranked_symptoms = sorted(all_similarities.items(), key=lambda x: x[1], reverse=True)\n",
        "\n",
        "    # return top predicted symptoms\n",
        "    top_predicted_symptoms = [symptom for symptom, _ in ranked_symptoms[:top_n]]\n",
        "    return top_predicted_symptoms\n",
        "\n",
        "disease_name = [\"acid reflux\"]\n",
        "\n",
        "top_predicted_symptoms = predict_top_symptoms_based_on_diseases(disease_embeddings, symptom_embeddings, disease_name)\n",
        "print(top_predicted_symptoms)"
      ],
      "metadata": {
        "colab": {
          "base_uri": "https://localhost:8080/"
        },
        "id": "7zw0F2WqxMe1",
        "outputId": "4b6c7819-3e9d-4362-c1ea-81496dce7f46"
      },
      "execution_count": null,
      "outputs": [
        {
          "output_type": "stream",
          "name": "stdout",
          "text": [
            "['heartburn', 'indigestion', 'peeling skin', 'heat therapy']\n"
          ]
        }
      ]
    },
    {
      "cell_type": "code",
      "source": [
        "def extract_top_symptoms_for_all_diseases(G, symptom_embeddings, top_n=4):\n",
        "    top_symptoms_dict = {}\n",
        "    for node in G.nodes():\n",
        "        if G.nodes[node]['type'] == 'disease':\n",
        "            disease_nodes = [node]\n",
        "            #print(disease_nodes)\n",
        "            top_symptoms = predict_top_symptoms_based_on_diseases(disease_embeddings, symptom_embeddings, disease_nodes)\n",
        "            #print(top_symptoms)\n",
        "            top_symptoms_dict[node] = top_symptoms\n",
        "            #print(top_symptoms_dict)\n",
        "    return top_symptoms_dict\n",
        "\n",
        "predicted_symptoms_all_diseases = extract_top_symptoms_for_all_diseases(G, symptom_embeddings)\n",
        "#predicted_symptoms_all_diseases"
      ],
      "metadata": {
        "id": "AiIpyZpcY7eI"
      },
      "execution_count": null,
      "outputs": []
    },
    {
      "cell_type": "code",
      "source": [
        "def calculate_accuracy(true_symptoms, predicted_symptoms, num_items):\n",
        "    true_symptoms = true_symptoms[:num_items]\n",
        "    predicted_symptoms = predicted_symptoms[:num_items]\n",
        "    correct_predictions = sum(symptom in predicted_symptoms for symptom in true_symptoms)\n",
        "    accuracy = correct_predictions / num_items\n",
        "    return accuracy\n",
        "n = 4\n",
        "top_true_symptoms = extract_top_symptoms_for_disease(data, disease_name)\n",
        "accuracy = calculate_accuracy(top_predicted_symptoms, top_true_symptoms,n)\n",
        "#print(f\"Accuracy for {disease_name}:\", accuracy)"
      ],
      "metadata": {
        "id": "aT_yg5ZvOITi"
      },
      "execution_count": null,
      "outputs": []
    },
    {
      "cell_type": "markdown",
      "source": [
        "**Accuracy for the top 1 predicted symptom**"
      ],
      "metadata": {
        "id": "85cIqzJNM9YD"
      }
    },
    {
      "cell_type": "code",
      "source": [
        "accuracies = {}\n",
        "for disease in top_true_symptoms_all_diseases:\n",
        "    true_symptoms = top_true_symptoms_all_diseases[disease]\n",
        "    #print(true_symptoms)\n",
        "    predicted_symptoms = predicted_symptoms_all_diseases.get(disease, [])\n",
        "    #print(predicted_symptoms)\n",
        "    accuracy = calculate_accuracy(true_symptoms, predicted_symptoms,1)\n",
        "    accuracies[disease] = accuracy\n",
        "overall_accuracy1 = sum(accuracies.values()) / len(accuracies)\n",
        "#for disease, accuracy in accuracies.items():\n",
        "    #print(f\"{disease}: {accuracy}\")\n",
        "print(\"\\nOverall accuracy:\", overall_accuracy1)"
      ],
      "metadata": {
        "colab": {
          "base_uri": "https://localhost:8080/"
        },
        "id": "yHk_cUYnKDZ_",
        "outputId": "d0612af1-f438-45a2-d387-0938ff43df3e"
      },
      "execution_count": null,
      "outputs": [
        {
          "output_type": "stream",
          "name": "stdout",
          "text": [
            "\n",
            "Overall accuracy: 0.10897435897435898\n"
          ]
        }
      ]
    },
    {
      "cell_type": "markdown",
      "source": [
        "**Accuracy for the top 2 predicted symptom**"
      ],
      "metadata": {
        "id": "kFoC5SiZNB9j"
      }
    },
    {
      "cell_type": "code",
      "source": [
        "accuracies = {}\n",
        "for disease in top_true_symptoms_all_diseases:\n",
        "    true_symptoms = top_true_symptoms_all_diseases[disease]\n",
        "    #print(true_symptoms)\n",
        "    predicted_symptoms = predicted_symptoms_all_diseases.get(disease, [])\n",
        "    #print(predicted_symptoms)\n",
        "    accuracy = calculate_accuracy(true_symptoms, predicted_symptoms,2)\n",
        "    accuracies[disease] = accuracy\n",
        "# Calculate overall accuracy\n",
        "overall_accuracy2 = sum(accuracies.values()) / len(accuracies)\n",
        "#for disease, accuracy in accuracies.items():\n",
        "    #print(f\"{disease}: {accuracy}\")\n",
        "print(\"\\nOverall accuracy:\", overall_accuracy2)"
      ],
      "metadata": {
        "colab": {
          "base_uri": "https://localhost:8080/"
        },
        "id": "N4RAmKBkMyhe",
        "outputId": "b95e3a10-5938-4f13-fc77-2dc86aeb3798"
      },
      "execution_count": null,
      "outputs": [
        {
          "output_type": "stream",
          "name": "stdout",
          "text": [
            "\n",
            "Overall accuracy: 0.1955128205128205\n"
          ]
        }
      ]
    },
    {
      "cell_type": "markdown",
      "source": [
        "**Accuracy for the top 3 predicted symptom**"
      ],
      "metadata": {
        "id": "jUfKrkzuND4v"
      }
    },
    {
      "cell_type": "code",
      "source": [
        "accuracies = {}\n",
        "for disease in top_true_symptoms_all_diseases:\n",
        "    true_symptoms = top_true_symptoms_all_diseases[disease]\n",
        "    #print(true_symptoms)\n",
        "    predicted_symptoms = predicted_symptoms_all_diseases.get(disease, [])\n",
        "    #print(predicted_symptoms)\n",
        "    accuracy = calculate_accuracy(true_symptoms, predicted_symptoms,3)\n",
        "    accuracies[disease] = accuracy\n",
        "# Calculate overall accuracy\n",
        "overall_accuracy3 = sum(accuracies.values()) / len(accuracies)\n",
        "#for disease, accuracy in accuracies.items():\n",
        "    #print(f\"{disease}: {accuracy}\")\n",
        "print(\"\\nOverall accuracy:\", overall_accuracy3)"
      ],
      "metadata": {
        "colab": {
          "base_uri": "https://localhost:8080/"
        },
        "id": "lY4KuSM5Mzzl",
        "outputId": "3aeee080-f2b4-4bce-dff8-b6ab955d83a2"
      },
      "execution_count": null,
      "outputs": [
        {
          "output_type": "stream",
          "name": "stdout",
          "text": [
            "\n",
            "Overall accuracy: 0.2649572649572651\n"
          ]
        }
      ]
    },
    {
      "cell_type": "markdown",
      "source": [
        "**Accuracy for the top 4 predicted symptom**"
      ],
      "metadata": {
        "id": "p7ED0wltNGmS"
      }
    },
    {
      "cell_type": "code",
      "source": [
        "accuracies = {}\n",
        "for disease in top_true_symptoms_all_diseases:\n",
        "    true_symptoms = top_true_symptoms_all_diseases[disease]\n",
        "    #print(true_symptoms)\n",
        "    predicted_symptoms = predicted_symptoms_all_diseases.get(disease, [])\n",
        "    #print(predicted_symptoms)\n",
        "    accuracy = calculate_accuracy(true_symptoms, predicted_symptoms,4)\n",
        "    accuracies[disease] = accuracy\n",
        "# Calculate overall accuracy\n",
        "overall_accuracy4 = sum(accuracies.values()) / len(accuracies)\n",
        "#for disease, accuracy in accuracies.items():\n",
        "    #print(f\"{disease}: {accuracy}\")\n",
        "print(\"\\nOverall accuracy:\", overall_accuracy4)"
      ],
      "metadata": {
        "colab": {
          "base_uri": "https://localhost:8080/"
        },
        "id": "tLjHf9trM0x9",
        "outputId": "a0ac72a7-003c-4705-9dfe-1d730d0fd99c"
      },
      "execution_count": null,
      "outputs": [
        {
          "output_type": "stream",
          "name": "stdout",
          "text": [
            "\n",
            "Overall accuracy: 0.3141025641025641\n"
          ]
        }
      ]
    },
    {
      "cell_type": "code",
      "source": [
        "import matplotlib.pyplot as plt\n",
        "overall_accuracies = [overall_accuracy1, overall_accuracy2, overall_accuracy3, overall_accuracy4]\n",
        "num_items_range = range(1, 5)\n",
        "plt.plot(num_items_range, overall_accuracies, marker='o')\n",
        "\n",
        "plt.title('Accuracy for Different Number of symptoms consider')\n",
        "plt.ylabel('Overall Accuracy')\n",
        "plt.xticks(num_items_range)\n",
        "plt.grid(True)\n",
        "plt.show()"
      ],
      "metadata": {
        "colab": {
          "base_uri": "https://localhost:8080/",
          "height": 452
        },
        "id": "Uc7WgfzSPBLg",
        "outputId": "578d61ea-dce9-4bae-92e9-39459e8dee44"
      },
      "execution_count": null,
      "outputs": [
        {
          "output_type": "display_data",
          "data": {
            "text/plain": [
              "<Figure size 640x480 with 1 Axes>"
            ],
            "image/png": "[encoded data removed]"
          },
          "metadata": {}
        }
      ]
    },
    {
      "cell_type": "markdown",
      "source": [
        "### Changing the parameters for node embeddings"
      ],
      "metadata": {
        "id": "oLHk_RgpReXj"
      }
    },
    {
      "cell_type": "code",
      "source": [
        "# Generate node embeddings\n",
        "node2vec = Node2Vec(G, dimensions=256, walk_length=200, num_walks=200, workers=4)\n",
        "model = node2vec.fit(window=10, min_count=1, batch_words=4)"
      ],
      "metadata": {
        "colab": {
          "base_uri": "https://localhost:8080/",
          "height": 104,
          "referenced_widgets": [
            "ec137a863ed946e8a632a2fa86317d28",
            "a9b4483739c64600a0c5b2bee4332eaf",
            "c7363603ac374cb69cdb6dfab1aa9989",
            "34dc099ecdbc4393850b81b34f62a186",
            "f54d38cc3d914cd0afd0074684880458",
            "cdd80ec1ba38453588499dff65fb409a",
            "f35dcc5c1917476cadee9a09a7fbe077",
            "32aeff9423774ff6bc2fb5b59a0411e2",
            "16cf9929d522495a9e5f6e961dd44453",
            "97ee3bbd266342ee86a64b80ca812db8",
            "fce2cedd3d11441f834fc222c8d5cddd"
          ]
        },
        "id": "Th5yh0ZzPO9H",
        "outputId": "cb51cc6f-f29e-4127-d273-111a58cb37b8"
      },
      "execution_count": null,
      "outputs": [
        {
          "output_type": "display_data",
          "data": {
            "text/plain": [
              "Computing transition probabilities:   0%|          | 0/486 [00:00<?, ?it/s]"
            ],
            "application/vnd.jupyter.widget-view+json": {
              "version_major": 2,
              "version_minor": 0,
              "model_id": "ec137a863ed946e8a632a2fa86317d28"
            }
          },
          "metadata": {}
        },
        {
          "output_type": "stream",
          "name": "stderr",
          "text": [
            "/usr/local/lib/python3.10/dist-packages/joblib/externals/loky/backend/fork_exec.py:38: RuntimeWarning: os.fork() was called. os.fork() is incompatible with multithreaded code, and JAX is multithreaded, so this will likely lead to a deadlock.\n",
            "  pid = os.fork()\n"
          ]
        }
      ]
    },
    {
      "cell_type": "code",
      "source": [
        "node_embeddings = {node: model.wv[node] for node in G.nodes}\n",
        "# Get embeddings for disease and symptom nodes\n",
        "disease_embeddings= {node: model.wv[node] for node in G.nodes() if G.nodes[node]['type'] == 'disease'}\n",
        "symptom_embeddings = {node: model.wv[node] for node in G.nodes() if G.nodes[node]['type'] == 'symptom'}"
      ],
      "metadata": {
        "id": "d8nbofE-Pp2S"
      },
      "execution_count": null,
      "outputs": []
    },
    {
      "cell_type": "code",
      "source": [
        "node_embeddings_tensor = torch.tensor([node_embeddings[node] for node in node_embeddings], dtype=torch.float)\n",
        "node_embeddings_array =node_embeddings_tensor.numpy()"
      ],
      "metadata": {
        "id": "tbrihA3mZm1i"
      },
      "execution_count": null,
      "outputs": []
    },
    {
      "cell_type": "code",
      "source": [
        "tsne = TSNE(n_components=2, random_state=42)\n",
        "embeddings_tsne= tsne.fit_transform(node_embeddings_array)\n",
        "plt.figure(figsize=(12, 6))\n",
        "\n",
        "plt.subplot(1, 2, 1)\n",
        "plt.scatter(embeddings_tsne[:, 0], embeddings_tsne[:, 1], s=10)\n",
        "plt.title('Node Embeddings')\n",
        "plt.show()"
      ],
      "metadata": {
        "colab": {
          "base_uri": "https://localhost:8080/",
          "height": 545
        },
        "id": "WWhBa6lJZUyB",
        "outputId": "fd262b70-556f-4dd3-bef8-5c09c2edd5d2"
      },
      "execution_count": null,
      "outputs": [
        {
          "output_type": "display_data",
          "data": {
            "text/plain": [
              "<Figure size 1200x600 with 1 Axes>"
            ],
            "image/png": "[encoded data removed]"
          },
          "metadata": {}
        }
      ]
    },
    {
      "cell_type": "code",
      "source": [
        "def predict_top_symptoms_based_on_diseases(disease_embeddings, symptom_embeddings, disease_list, top_n=4):\n",
        "    all_similarities = {}\n",
        "    for disease in disease_list:\n",
        "        if disease in disease_embeddings:\n",
        "            disease_embedding = disease_embeddings[disease]\n",
        "            for symptom_node, symptom_embedding in symptom_embeddings.items():\n",
        "                similarity = cosine_similarity([disease_embedding], [symptom_embedding])[0][0]\n",
        "                if symptom_node not in all_similarities:\n",
        "                    all_similarities[symptom_node] = similarity\n",
        "                else:\n",
        "                    all_similarities[symptom_node] += similarity\n",
        "    # ranking symptoms based on accumulated similarities\n",
        "    ranked_symptoms = sorted(all_similarities.items(), key=lambda x: x[1], reverse=True)\n",
        "\n",
        "    # return top predicted symptoms\n",
        "    top_predicted_symptoms = [symptom for symptom, _ in ranked_symptoms[:top_n]]\n",
        "    return top_predicted_symptoms\n",
        "\n",
        "disease_name = [\"acid reflux\"]\n",
        "\n",
        "top_predicted_symptoms = predict_top_symptoms_based_on_diseases(disease_embeddings, symptom_embeddings, disease_name)\n",
        "#print(top_predicted_symptoms)"
      ],
      "metadata": {
        "id": "-6TfDQDiPvc5"
      },
      "execution_count": null,
      "outputs": []
    },
    {
      "cell_type": "code",
      "source": [
        "def extract_top_symptoms_for_all_diseases(G, symptom_embeddings, top_n=4):\n",
        "    top_symptoms_dict = {}\n",
        "    for node in G.nodes():\n",
        "        if G.nodes[node]['type'] == 'disease':\n",
        "            disease_nodes = [node]\n",
        "            #print(disease_nodes)\n",
        "            top_symptoms = predict_top_symptoms_based_on_diseases(disease_embeddings, symptom_embeddings, disease_nodes)\n",
        "            #print(top_symptoms)\n",
        "            top_symptoms_dict[node] = top_symptoms\n",
        "            #print(top_symptoms_dict)\n",
        "    return top_symptoms_dict\n",
        "\n",
        "predicted_symptoms_all_diseases = extract_top_symptoms_for_all_diseases(G, symptom_embeddings)\n",
        "#predicted_symptoms_all_diseases"
      ],
      "metadata": {
        "id": "mko-aKGgVQUi"
      },
      "execution_count": null,
      "outputs": []
    },
    {
      "cell_type": "code",
      "source": [
        "def calculate_accuracy(true_symptoms, predicted_symptoms, num_items):\n",
        "    true_symptoms = true_symptoms[:num_items]\n",
        "    predicted_symptoms = predicted_symptoms[:num_items]\n",
        "    correct_predictions = sum(symptom in predicted_symptoms for symptom in true_symptoms)\n",
        "    accuracy = correct_predictions / num_items\n",
        "    return accuracy\n",
        "n = 4\n",
        "top_true_symptoms = extract_top_symptoms_for_disease(data, disease_name)\n",
        "accuracy = calculate_accuracy(top_predicted_symptoms, top_true_symptoms,n)\n",
        "#print(f\"Accuracy for {disease_name}:\", accuracy)"
      ],
      "metadata": {
        "id": "qFe7s9H8VXyy"
      },
      "execution_count": null,
      "outputs": []
    },
    {
      "cell_type": "code",
      "source": [
        "#top_true_symptoms_all_diseases"
      ],
      "metadata": {
        "id": "HZc9I3SY6SYv"
      },
      "execution_count": null,
      "outputs": []
    },
    {
      "cell_type": "markdown",
      "source": [
        "**Accuracy for top 1 symptoms**"
      ],
      "metadata": {
        "id": "esPuTI5pLZFl"
      }
    },
    {
      "cell_type": "code",
      "source": [
        "accuracies = {}\n",
        "for disease in top_true_symptoms_all_diseases:\n",
        "    true_symptoms = top_true_symptoms_all_diseases[disease]\n",
        "    #print(true_symptoms)\n",
        "    predicted_symptoms = predicted_symptoms_all_diseases.get(disease, [])\n",
        "    #print(predicted_symptoms)\n",
        "    accuracy = calculate_accuracy(true_symptoms, predicted_symptoms,1)\n",
        "    accuracies[disease] = accuracy\n",
        "# Calculate overall accuracy\n",
        "overall_accuracy_1 = sum(accuracies.values()) / len(accuracies)\n",
        "#for disease, accuracy in accuracies.items():\n",
        "    #print(f\"{disease}: {accuracy}\")\n",
        "print(\"\\nOverall accuracy:\", overall_accuracy_1)"
      ],
      "metadata": {
        "colab": {
          "base_uri": "https://localhost:8080/"
        },
        "id": "6usfzOaZVULg",
        "outputId": "632f234f-9594-4015-d41c-b8a98d9522ca"
      },
      "execution_count": null,
      "outputs": [
        {
          "output_type": "stream",
          "name": "stdout",
          "text": [
            "\n",
            "Overall accuracy: 0.2564102564102564\n"
          ]
        }
      ]
    },
    {
      "cell_type": "markdown",
      "source": [
        "**Accuracy for top 2 symptoms**"
      ],
      "metadata": {
        "id": "ofe9KjWALdtc"
      }
    },
    {
      "cell_type": "code",
      "source": [
        "accuracies = {}\n",
        "for disease in top_true_symptoms_all_diseases:\n",
        "    true_symptoms = top_true_symptoms_all_diseases[disease]\n",
        "    #print(true_symptoms)\n",
        "    predicted_symptoms = predicted_symptoms_all_diseases.get(disease, [])\n",
        "    #print(predicted_symptoms)\n",
        "    accuracy = calculate_accuracy(true_symptoms, predicted_symptoms,2)\n",
        "    accuracies[disease] = accuracy\n",
        "# Calculate overall accuracy\n",
        "overall_accuracy_2 = sum(accuracies.values()) / len(accuracies)\n",
        "#for disease, accuracy in accuracies.items():\n",
        "    #print(f\"{disease}: {accuracy}\")\n",
        "print(\"\\nOverall accuracy:\", overall_accuracy_2)"
      ],
      "metadata": {
        "colab": {
          "base_uri": "https://localhost:8080/"
        },
        "id": "-cykrtirLOu5",
        "outputId": "562cae83-9d16-464a-96d9-ba1da09ab45e"
      },
      "execution_count": null,
      "outputs": [
        {
          "output_type": "stream",
          "name": "stdout",
          "text": [
            "\n",
            "Overall accuracy: 0.3814102564102564\n"
          ]
        }
      ]
    },
    {
      "cell_type": "markdown",
      "source": [
        "**Accuracy for top 3 symptoms**"
      ],
      "metadata": {
        "id": "b_w-K9WQLffT"
      }
    },
    {
      "cell_type": "code",
      "source": [
        "accuracies = {}\n",
        "for disease in top_true_symptoms_all_diseases:\n",
        "    true_symptoms = top_true_symptoms_all_diseases[disease]\n",
        "    #print(true_symptoms)\n",
        "    predicted_symptoms = predicted_symptoms_all_diseases.get(disease, [])\n",
        "    #print(predicted_symptoms)\n",
        "    accuracy = calculate_accuracy(true_symptoms, predicted_symptoms,3)\n",
        "    accuracies[disease] = accuracy\n",
        "# Calculate overall accuracy\n",
        "overall_accuracy_3 = sum(accuracies.values()) / len(accuracies)\n",
        "#for disease, accuracy in accuracies.items():\n",
        "    #print(f\"{disease}: {accuracy}\")\n",
        "print(\"\\nOverall accuracy:\", overall_accuracy_3)"
      ],
      "metadata": {
        "colab": {
          "base_uri": "https://localhost:8080/"
        },
        "id": "JPHXOf5kLRRM",
        "outputId": "21bc58a8-b14b-4339-9005-8933642c2a7f"
      },
      "execution_count": null,
      "outputs": [
        {
          "output_type": "stream",
          "name": "stdout",
          "text": [
            "\n",
            "Overall accuracy: 0.4273504273504274\n"
          ]
        }
      ]
    },
    {
      "cell_type": "markdown",
      "source": [
        "**Accuracy for top 4 symptoms**"
      ],
      "metadata": {
        "id": "5oqggjcHLhfZ"
      }
    },
    {
      "cell_type": "code",
      "source": [
        "accuracies = {}\n",
        "for disease in top_true_symptoms_all_diseases:\n",
        "    true_symptoms = top_true_symptoms_all_diseases[disease]\n",
        "    #print(true_symptoms)\n",
        "    predicted_symptoms = predicted_symptoms_all_diseases.get(disease, [])\n",
        "    #print(predicted_symptoms)\n",
        "    accuracy = calculate_accuracy(true_symptoms, predicted_symptoms,4)\n",
        "    accuracies[disease] = accuracy\n",
        "# Calculate overall accuracy\n",
        "overall_accuracy_4 = sum(accuracies.values()) / len(accuracies)\n",
        "#for disease, accuracy in accuracies.items():\n",
        "    #print(f\"{disease}: {accuracy}\")\n",
        "print(\"\\nOverall accuracy:\", overall_accuracy_4)"
      ],
      "metadata": {
        "colab": {
          "base_uri": "https://localhost:8080/"
        },
        "id": "z832CfG5LSzF",
        "outputId": "01cfd3c9-033d-4978-be3f-fdee395c3e1e"
      },
      "execution_count": null,
      "outputs": [
        {
          "output_type": "stream",
          "name": "stdout",
          "text": [
            "\n",
            "Overall accuracy: 0.4823717948717949\n"
          ]
        }
      ]
    },
    {
      "cell_type": "code",
      "source": [
        "overall_accuracies = [overall_accuracy_1, overall_accuracy_2, overall_accuracy_3, overall_accuracy_4]\n",
        "num_items_range = range(1, 5)\n",
        "plt.plot(num_items_range, overall_accuracies, marker='o')\n",
        "\n",
        "plt.title('Accuracy for Different Number of predicted symptoms consider')\n",
        "plt.ylabel('Overall Accuracy')\n",
        "plt.xticks(num_items_range)\n",
        "plt.grid(True)\n",
        "plt.show()"
      ],
      "metadata": {
        "colab": {
          "base_uri": "https://localhost:8080/",
          "height": 452
        },
        "id": "WIkoqg9dPrEC",
        "outputId": "42dadd28-fe0d-4d72-9ee2-6d2c7b906fc6"
      },
      "execution_count": null,
      "outputs": [
        {
          "output_type": "display_data",
          "data": {
            "text/plain": [
              "<Figure size 640x480 with 1 Axes>"
            ],
            "image/png": "[encoded data removed]"
          },
          "metadata": {}
        }
      ]
    },
    {
      "cell_type": "markdown",
      "source": [
        "Baseline accuracy for most common symptoms class"
      ],
      "metadata": {
        "id": "ZoIbutxDhBQD"
      }
    },
    {
      "cell_type": "code",
      "source": [
        "# Count the frequency of each symptom across all diseases\n",
        "symptom_counts = {}\n",
        "for _, row in data.iterrows():\n",
        "    symptoms_with_weights = row['Symptoms']\n",
        "    symptoms = [s.split('(')[0].strip() for s in symptoms_with_weights.split(',')]\n",
        "    for symptom in symptoms:\n",
        "        symptom_counts[symptom] = symptom_counts.get(symptom, 0) + 1\n",
        "\n",
        "# Identify the most common symptoms\n",
        "most_common_symptoms = sorted(symptom_counts, key=symptom_counts.get, reverse=True)[:1]"
      ],
      "metadata": {
        "id": "YYAsNb2thUTc"
      },
      "execution_count": 5,
      "outputs": []
    },
    {
      "cell_type": "code",
      "source": [
        "correct_true_predictions = 0\n",
        "total_predictions_top_true = 0\n",
        "for disease in top_true_symptoms_all_diseases:\n",
        "    true_symptoms = top_true_symptoms_all_diseases[disease][:1]\n",
        "    if true_symptoms == most_common_symptoms:\n",
        "        correct_true_predictions += 1\n",
        "    total_predictions_top_true += 1\n",
        "\n",
        "# Calculate accuracy for top true symptoms\n",
        "accuracy_top_true = correct_true_predictions / total_predictions_top_true if total_predictions_top_true > 0 else 0\n",
        "print(\"Accuracy for most common symptom:\", accuracy_top_true)"
      ],
      "metadata": {
        "colab": {
          "base_uri": "https://localhost:8080/"
        },
        "id": "8K75FOl4hGoK",
        "outputId": "5db4c187-8590-48a9-886c-b9d678e00d18"
      },
      "execution_count": 6,
      "outputs": [
        {
          "output_type": "stream",
          "name": "stdout",
          "text": [
            "Accuracy for most common symptom: 0.0641025641025641\n"
          ]
        }
      ]
    },
    {
      "cell_type": "markdown",
      "source": [
        "# Predicting Disease based on symptoms"
      ],
      "metadata": {
        "id": "a-uRbncLe7Rz"
      }
    },
    {
      "cell_type": "code",
      "source": [
        "def predict_top_diseases_based_on_symptoms(disease_embeddings, symptom_embeddings, symptom_list, top_n=4):\n",
        "    all_similarities = {}\n",
        "    for symptom in symptom_list:\n",
        "        if symptom in symptom_embeddings:\n",
        "            symptom_embedding = symptom_embeddings[symptom]\n",
        "            for disease_node, disease_embedding in disease_embeddings.items():\n",
        "                similarity = cosine_similarity([symptom_embedding], [disease_embedding])[0][0]\n",
        "                if disease_node not in all_similarities:\n",
        "                    all_similarities[disease_node] = similarity\n",
        "                else:\n",
        "                    all_similarities[disease_node] += similarity\n",
        "\n",
        "    # ranking diseases based on accumulated similarities\n",
        "    ranked_diseases = sorted(all_similarities.items(), key=lambda x: x[1], reverse=True)\n",
        "    top_predicted_diseases = [disease for disease, _ in ranked_diseases[:top_n]]\n",
        "    return top_predicted_diseases\n",
        "\n",
        "symptoms_name = [\"pain\"]\n",
        "\n",
        "#stores top predicted disease for given symptms\n",
        "top_predicted_diseases = predict_top_diseases_based_on_symptoms(disease_embeddings, symptom_embeddings, symptoms_name)\n",
        "print(top_predicted_diseases)\n"
      ],
      "metadata": {
        "colab": {
          "base_uri": "https://localhost:8080/"
        },
        "id": "jYfmRKDhc0Ig",
        "outputId": "16ff3823-e31e-4a7d-cf4b-ece0f30c62bd"
      },
      "execution_count": null,
      "outputs": [
        {
          "output_type": "stream",
          "name": "stdout",
          "text": [
            "['pancreatitis', 'cholecystitis', 'diverticulitis', 'gallstones']\n"
          ]
        }
      ]
    },
    {
      "cell_type": "code",
      "source": [
        "def extract_top_disease_for_all_symptoms(G, symptom_embeddings, top_n=4):\n",
        "    top_diseases_dict = {}\n",
        "    for node in G.nodes():\n",
        "        if G.nodes[node]['type'] == 'symptom':\n",
        "            symptom_nodes = [node]\n",
        "            #print(disease_nodes)\n",
        "            top_diseases = predict_top_diseases_based_on_symptoms(disease_embeddings, symptom_embeddings, symptom_nodes)\n",
        "            #print(top_symptoms)\n",
        "            top_diseases_dict[node] = top_diseases\n",
        "            #print(top_symptoms_dict)\n",
        "    return top_diseases_dict\n",
        "\n",
        "predicted_diseases_all_symptoms = extract_top_disease_for_all_symptoms(G, symptom_embeddings)"
      ],
      "metadata": {
        "id": "zBYK2t7gfPsP"
      },
      "execution_count": null,
      "outputs": []
    },
    {
      "cell_type": "code",
      "source": [
        "#predicted_diseases_all_symptoms"
      ],
      "metadata": {
        "id": "4_tCdL5079Pq"
      },
      "execution_count": null,
      "outputs": []
    },
    {
      "cell_type": "code",
      "source": [
        "def calculate_accuracy(true_disease, predicted_disease, num_items):\n",
        "    true_disease = true_disease[:num_items]\n",
        "    #print(true_disease)\n",
        "    predicted_disease = predicted_disease[:num_items]\n",
        "    #print(predicted_disease)\n",
        "    correct_predictions = sum(disease in predicted_disease for disease in true_disease)\n",
        "    accuracy = correct_predictions / len(true_disease)\n",
        "    return accuracy\n",
        "n=4\n",
        "top_true_disease = extract_top_disease_for_symptoms(df, symptoms_name)\n",
        "accuracy = calculate_accuracy(top_predicted_diseases, top_true_disease,n)\n",
        "#print(f\"Accuracy for {symptoms_name}:\", accuracy)"
      ],
      "metadata": {
        "id": "AA2yaNZN9KF9"
      },
      "execution_count": null,
      "outputs": []
    },
    {
      "cell_type": "markdown",
      "source": [
        "**Accuracy for top 1 predicted disease**"
      ],
      "metadata": {
        "id": "Fsbnu-KaKI4V"
      }
    },
    {
      "cell_type": "code",
      "source": [
        "accuracies = {}\n",
        "for symptom in top_true_disease_all_symptoms:\n",
        "    true_disease = top_true_disease_all_symptoms[symptom]\n",
        "    #print(true_disease)\n",
        "    predicted_diseases = predicted_diseases_all_symptoms.get(symptom, [])\n",
        "    #print(predicted_diseases)\n",
        "    accuracy = calculate_accuracy(true_disease, predicted_diseases,1)\n",
        "    accuracies[symptom] = accuracy\n",
        "overall_accuracy_1 = sum(accuracies.values()) / len(accuracies)\n",
        "#for disease, accuracy in accuracies.items():\n",
        "    #print(f\"{disease}: {accuracy}\")\n",
        "print(\"\\nOverall accuracy:\", overall_accuracy_1)"
      ],
      "metadata": {
        "colab": {
          "base_uri": "https://localhost:8080/"
        },
        "id": "VwqUeXvW95qf",
        "outputId": "0259f218-d529-4ccd-e81e-c67029e11e7c"
      },
      "execution_count": null,
      "outputs": [
        {
          "output_type": "stream",
          "name": "stdout",
          "text": [
            "\n",
            "Overall accuracy: 0.7636363636363637\n"
          ]
        }
      ]
    },
    {
      "cell_type": "markdown",
      "source": [
        "**Accuracy for top 2 predicted diseases**"
      ],
      "metadata": {
        "id": "OD8d_19IKQNV"
      }
    },
    {
      "cell_type": "code",
      "source": [
        "accuracies = {}\n",
        "for symptom in top_true_disease_all_symptoms:\n",
        "    true_disease = top_true_disease_all_symptoms[symptom]\n",
        "    #print(true_disease)\n",
        "    predicted_diseases = predicted_diseases_all_symptoms.get(symptom, [])\n",
        "    #print(predicted_diseases)\n",
        "    accuracy = calculate_accuracy(true_disease, predicted_diseases,2)\n",
        "    accuracies[symptom] = accuracy\n",
        "overall_accuracy_2 = sum(accuracies.values()) / len(accuracies)\n",
        "#for disease, accuracy in accuracies.items():\n",
        "    #print(f\"{disease}: {accuracy}\")\n",
        "print(\"\\nOverall accuracy:\", overall_accuracy_2)"
      ],
      "metadata": {
        "colab": {
          "base_uri": "https://localhost:8080/"
        },
        "id": "bZz_buCJJ9qU",
        "outputId": "25b5e6b2-f87f-41d0-adce-10257c69bf94"
      },
      "execution_count": null,
      "outputs": [
        {
          "output_type": "stream",
          "name": "stdout",
          "text": [
            "\n",
            "Overall accuracy: 0.7924242424242425\n"
          ]
        }
      ]
    },
    {
      "cell_type": "markdown",
      "source": [
        "**Accuracy for top 3 predicted diseases**"
      ],
      "metadata": {
        "id": "AlxzZzvpKXWe"
      }
    },
    {
      "cell_type": "code",
      "source": [
        "accuracies = {}\n",
        "for symptom in top_true_disease_all_symptoms:\n",
        "    true_disease = top_true_disease_all_symptoms[symptom]\n",
        "    #print(true_disease)\n",
        "    predicted_diseases = predicted_diseases_all_symptoms.get(symptom, [])\n",
        "    #print(predicted_diseases)\n",
        "    accuracy = calculate_accuracy(true_disease, predicted_diseases,3)\n",
        "    accuracies[symptom] = accuracy\n",
        "overall_accuracy_3 = sum(accuracies.values()) / len(accuracies)\n",
        "#for disease, accuracy in accuracies.items():\n",
        "    #print(f\"{disease}: {accuracy}\")\n",
        "print(\"\\nOverall accuracy:\", overall_accuracy_3)"
      ],
      "metadata": {
        "colab": {
          "base_uri": "https://localhost:8080/"
        },
        "id": "0-oze54PJyEO",
        "outputId": "ec34c390-2603-4d5a-b4b6-517636c73138"
      },
      "execution_count": null,
      "outputs": [
        {
          "output_type": "stream",
          "name": "stdout",
          "text": [
            "\n",
            "Overall accuracy: 0.8217171717171716\n"
          ]
        }
      ]
    },
    {
      "cell_type": "markdown",
      "source": [
        "**Accuracy for top 4 predicted dseases**"
      ],
      "metadata": {
        "id": "03oxGNMCKaXz"
      }
    },
    {
      "cell_type": "code",
      "source": [
        "accuracies = {}\n",
        "for symptom in top_true_disease_all_symptoms:\n",
        "    true_disease = top_true_disease_all_symptoms[symptom]\n",
        "    #print(true_disease)\n",
        "    predicted_diseases = predicted_diseases_all_symptoms.get(symptom, [])\n",
        "    #print(predicted_diseases)\n",
        "    accuracy = calculate_accuracy(true_disease, predicted_diseases,4)\n",
        "    accuracies[symptom] = accuracy\n",
        "overall_accuracy_4 = sum(accuracies.values()) / len(accuracies)\n",
        "#for disease, accuracy in accuracies.items():\n",
        "    #print(f\"{disease}: {accuracy}\")\n",
        "print(\"\\nOverall accuracy:\", overall_accuracy_4)"
      ],
      "metadata": {
        "colab": {
          "base_uri": "https://localhost:8080/"
        },
        "id": "Jkk-PmLOJ6u9",
        "outputId": "429a80c0-c494-431a-9aaa-b8ba94c152f8"
      },
      "execution_count": null,
      "outputs": [
        {
          "output_type": "stream",
          "name": "stdout",
          "text": [
            "\n",
            "Overall accuracy: 0.838131313131313\n"
          ]
        }
      ]
    },
    {
      "cell_type": "code",
      "source": [
        "overall_accuracies = [overall_accuracy_1, overall_accuracy_2, overall_accuracy_3, overall_accuracy_4]\n",
        "num_items_range = range(1, 5)\n",
        "plt.plot(num_items_range, overall_accuracies, marker='o')\n",
        "\n",
        "plt.title('Accuracy for Different Number of predicted Disease consider')\n",
        "plt.ylabel('Overall Accuracy')\n",
        "plt.xticks(num_items_range)\n",
        "plt.grid(True)\n",
        "plt.show()"
      ],
      "metadata": {
        "colab": {
          "base_uri": "https://localhost:8080/",
          "height": 452
        },
        "id": "nn7t2AeDTs8i",
        "outputId": "83c123e8-9b16-4e89-e2b4-eeee1ea81eec"
      },
      "execution_count": null,
      "outputs": [
        {
          "output_type": "display_data",
          "data": {
            "text/plain": [
              "<Figure size 640x480 with 1 Axes>"
            ],
            "image/png": "[encoded data removed]"
          },
          "metadata": {}
        }
      ]
    },
    {
      "cell_type": "markdown",
      "source": [
        "# Data Preprocessing"
      ],
      "metadata": {
        "id": "Gwr8lk7X2Jie"
      }
    },
    {
      "cell_type": "code",
      "source": [
        "import re, string\n",
        "import nltk\n",
        "from nltk.corpus import stopwords\n",
        "from nltk.tokenize import word_tokenize\n",
        "from nltk.stem import SnowballStemmer\n",
        "from nltk.corpus import wordnet\n",
        "from nltk.stem import WordNetLemmatizer\n",
        "from nltk import ngrams\n",
        "\n",
        "nltk.download('stopwords')\n",
        "nltk.download('punkt')\n",
        "nltk.download('averaged_perceptron_tagger')\n",
        "nltk.download('wordnet')"
      ],
      "metadata": {
        "colab": {
          "base_uri": "https://localhost:8080/"
        },
        "id": "qgikCc1r4pKz",
        "outputId": "b5b5d1ee-ede9-4610-cc7a-0fd8da936a4d"
      },
      "execution_count": null,
      "outputs": [
        {
          "output_type": "stream",
          "name": "stderr",
          "text": [
            "[nltk_data] Downloading package stopwords to /root/nltk_data...\n",
            "[nltk_data]   Package stopwords is already up-to-date!\n",
            "[nltk_data] Downloading package punkt to /root/nltk_data...\n",
            "[nltk_data]   Package punkt is already up-to-date!\n",
            "[nltk_data] Downloading package averaged_perceptron_tagger to\n",
            "[nltk_data]     /root/nltk_data...\n",
            "[nltk_data]   Package averaged_perceptron_tagger is already up-to-\n",
            "[nltk_data]       date!\n",
            "[nltk_data] Downloading package wordnet to /root/nltk_data...\n",
            "[nltk_data]   Package wordnet is already up-to-date!\n"
          ]
        },
        {
          "output_type": "execute_result",
          "data": {
            "text/plain": [
              "True"
            ]
          },
          "metadata": {},
          "execution_count": 178
        }
      ]
    },
    {
      "cell_type": "code",
      "source": [
        "# Initialize the lemmatizer\n",
        "wl = WordNetLemmatizer()\n",
        "def preprocess(text):\n",
        "    text = text.lower()\n",
        "    text = text.strip()\n",
        "    text = re.compile('<.*?>').sub('', text)\n",
        "    text = re.compile('[%s]' % re.escape(string.punctuation)).sub(' ', text)\n",
        "    text = re.sub('\\s+', ' ', text)\n",
        "    text = re.sub('\\ï½ ', '', text)\n",
        "    text = re.sub(r'[^\\w\\s]', '', str(text).lower().strip())\n",
        "    text = re.sub(r'\\d', ' ', text)\n",
        "    text = re.sub(r'\\s+', ' ', text)\n",
        "    return text\n",
        "\n",
        "def stopword(string):\n",
        "    a= [i for i in string.split() if i not in stopwords.words('english')]\n",
        "    return ' '.join(a)\n",
        "\n",
        "def get_wordnet_pos(tag):\n",
        "    if tag.startswith('J'):\n",
        "        return wordnet.ADJ\n",
        "    elif tag.startswith('V'):\n",
        "        return wordnet.VERB\n",
        "    elif tag.startswith('N'):\n",
        "        return wordnet.NOUN\n",
        "    elif tag.startswith('R'):\n",
        "        return wordnet.ADV\n",
        "    else:\n",
        "        return wordnet.NOUN\n",
        "\n",
        "def finalpreprocess(string):\n",
        "    return stopword(preprocess(string))\n",
        "\n",
        "#sentence = 'what is the symptoms of migrane? I am having cough from the last few days and feeling like nausea. I am feeling like vomiting as well and feeling tired. I feel like I am having asthma.'\n",
        "\n",
        "#process_data = finalpreprocess(sentence)\n",
        "\n",
        "# Function to generate n-grams\n",
        "def generate_ngrams(text):\n",
        "    words = text.split()\n",
        "    all_tokens=[]\n",
        "    for n in range(1, 6):\n",
        "        n_grams = ngrams(words, n)\n",
        "        for grams in n_grams:\n",
        "            gram_string = ' '.join(grams)\n",
        "            #print(gram_string)\n",
        "            all_tokens.append(gram_string)\n",
        "    return all_tokens\n",
        "\n",
        "#tokens = generate_ngrams(process_data)\n",
        "\n",
        "# Print the result\n",
        "#print(tokens)\n"
      ],
      "metadata": {
        "id": "Wr56iCkF4HO9"
      },
      "execution_count": null,
      "outputs": []
    },
    {
      "cell_type": "markdown",
      "source": [
        "# Using Medical-NER"
      ],
      "metadata": {
        "id": "CB6fWrq6Ijh2"
      }
    },
    {
      "cell_type": "markdown",
      "source": [
        "For disease symptoms entity recognition from user input"
      ],
      "metadata": {
        "id": "m-Pyu4AvOlw5"
      }
    },
    {
      "cell_type": "code",
      "source": [
        "from transformers import pipeline\n",
        "pipe = pipeline(\"token-classification\", model=\"Clinical-AI-Apollo/Medical-NER\", aggregation_strategy='simple')"
      ],
      "metadata": {
        "id": "EqsqLQOqOdOG"
      },
      "execution_count": null,
      "outputs": []
    },
    {
      "cell_type": "code",
      "source": [
        "def entity_extraction(user_input):\n",
        "  user_input = finalpreprocess(user_input)\n",
        "  result = pipe(user_input)\n",
        "  words = [item['word'] for item in result]\n",
        "  text_list = words\n",
        "  return text_list"
      ],
      "metadata": {
        "id": "8jZyYvN7Ob08"
      },
      "execution_count": null,
      "outputs": []
    },
    {
      "cell_type": "code",
      "source": [
        "def process_user_input(user_input):\n",
        "  disease_entity = []\n",
        "  symptom_entity = []\n",
        "  entities = entity_extraction(user_input)\n",
        "  #print(entities)\n",
        "  for entity in entities:\n",
        "    if entity in symptom_nodes:\n",
        "      symptom_entity.append(entity)\n",
        "      #print(f'symptoms{symptom_entity}')\n",
        "    elif entity in disease_nodes:\n",
        "      disease_entity.append(entity)\n",
        "      #print(f'disease{disease_entity}')\n",
        "  if symptom_entity:\n",
        "    predicted_disease = predict_top_diseases_based_on_symptoms(disease_embeddings, symptom_embeddings,symptom_entity)\n",
        "    return predicted_disease\n",
        "  else :\n",
        "    predicted_symptoms = predict_top_symptoms_based_on_diseases(disease_embeddings, symptom_embeddings,disease_entity)\n",
        "    return predicted_symptoms"
      ],
      "metadata": {
        "id": "G8r6Xbx3AATv"
      },
      "execution_count": null,
      "outputs": []
    },
    {
      "cell_type": "markdown",
      "source": [
        "#### Simple User Interface"
      ],
      "metadata": {
        "id": "ZvJzGSkEW755"
      }
    },
    {
      "cell_type": "markdown",
      "source": [
        " Creating simple user interface for extracting related disease and symptoms based on node embeddings extraction"
      ],
      "metadata": {
        "id": "ox3N8pDmjD1q"
      }
    },
    {
      "cell_type": "code",
      "source": [
        "import ipywidgets as widgets\n",
        "from IPython.display import display\n",
        "\n",
        "def query_symptoms(user_input):\n",
        "     result_diseases = process_user_input(user_input)\n",
        "     if result_diseases:\n",
        "      result_diseases = ', '.join(result_diseases)\n",
        "      return f\"your symptoms can cause {result_diseases}. Stay Safe.\"\n",
        "     else:\n",
        "      return f\" I have no information about symptoms {user_input} Can you tell me more about your symptoms.\"\n",
        "\n",
        "\n",
        "def query_diseases(user_input):\n",
        "    result_symptoms = process_user_input(user_input)\n",
        "    if result_symptoms:\n",
        "      result_symptoms= ', '.join(result_symptoms)\n",
        "      return f\"If you have {user_input} you might have {result_symptoms}. Stay Safe. \"\n",
        "    else:\n",
        "      return f\" I have no information about disease {user_input}.Please enter another disease.\"\n",
        "\n",
        "\n",
        "radio_buttons = widgets.RadioButtons(\n",
        "    options=['Enter diseases', 'Enter symptoms'],\n",
        "    description='Choose:'\n",
        ")\n",
        "input_field = widgets.Text(\n",
        "    description='Input:'\n",
        ")\n",
        "\n",
        "def update_placeholder(change):\n",
        "    if change['new'] == 'Enter diseases':\n",
        "        input_field.placeholder = 'Enter the diseas you want to query '\n",
        "    elif change['new'] == 'Enter symptoms':\n",
        "        input_field.placeholder = 'Enter your symptoms'\n",
        "\n",
        "radio_buttons.observe(update_placeholder, names='value')\n",
        "output = widgets.Output()\n",
        "def handle_submit(sender):\n",
        "    output.clear_output()\n",
        "    query_type = radio_buttons.value\n",
        "    user_input = input_field.value\n",
        "    with output:\n",
        "        if query_type == 'Enter diseases':\n",
        "            result = query_diseases(user_input)\n",
        "        elif query_type == 'Enter symptoms':\n",
        "            result = query_symptoms(user_input)\n",
        "        else:\n",
        "            result = \"Invalid query type\"\n",
        "        print(f\"your input: {user_input}\")\n",
        "        print(result)\n",
        "    #input_field.value = ''\n",
        "\n",
        "submit_button = widgets.Button(description=\"Submit\")\n",
        "submit_button.on_click(handle_submit)\n",
        "\n",
        "# Display the form\n",
        "display(radio_buttons)\n",
        "display(input_field)\n",
        "display(submit_button)\n",
        "display(output)"
      ],
      "metadata": {
        "colab": {
          "base_uri": "https://localhost:8080/",
          "height": 142,
          "referenced_widgets": [
            "88f0cb74530f43e09853e3bfa447d9b6",
            "8bce3f192cf24e09a375210be26e866f",
            "aa890b97a26c40f09faf3c568b01417c",
            "db9b70b98bfc4b38a89ad8616d7bd9da",
            "2eccbedec5b2485e8827970d1e9da376",
            "98199fcbcefc49109247361b7d88d2c9",
            "6cd667788e9349dc8a1822e0c249f9d8",
            "e9b90209067b4aca8c30927928fbc219",
            "4b887125133745f99ae966fe9e8ec249",
            "a427045e88cd4f3e8cc03d553ffa3046",
            "ccec393b6a884167929f30d71c89a91b"
          ]
        },
        "id": "VTZFYM0uKqSQ",
        "outputId": "40a20015-c554-4872-d609-2681f5791ffb"
      },
      "execution_count": null,
      "outputs": [
        {
          "output_type": "display_data",
          "data": {
            "text/plain": [
              "RadioButtons(description='Choose:', options=('Enter diseases', 'Enter symptoms'), value='Enter diseases')"
            ],
            "application/vnd.jupyter.widget-view+json": {
              "version_major": 2,
              "version_minor": 0,
              "model_id": "88f0cb74530f43e09853e3bfa447d9b6"
            }
          },
          "metadata": {}
        },
        {
          "output_type": "display_data",
          "data": {
            "text/plain": [
              "Text(value='', description='Input:')"
            ],
            "application/vnd.jupyter.widget-view+json": {
              "version_major": 2,
              "version_minor": 0,
              "model_id": "db9b70b98bfc4b38a89ad8616d7bd9da"
            }
          },
          "metadata": {}
        },
        {
          "output_type": "display_data",
          "data": {
            "text/plain": [
              "Button(description='Submit', style=ButtonStyle())"
            ],
            "application/vnd.jupyter.widget-view+json": {
              "version_major": 2,
              "version_minor": 0,
              "model_id": "6cd667788e9349dc8a1822e0c249f9d8"
            }
          },
          "metadata": {}
        },
        {
          "output_type": "display_data",
          "data": {
            "text/plain": [
              "Output()"
            ],
            "application/vnd.jupyter.widget-view+json": {
              "version_major": 2,
              "version_minor": 0,
              "model_id": "a427045e88cd4f3e8cc03d553ffa3046"
            }
          },
          "metadata": {}
        }
      ]
    }
  ]
}